{
 "cells": [
  {
   "cell_type": "markdown",
   "id": "68889bbd",
   "metadata": {
    "papermill": {
     "duration": 0.01488,
     "end_time": "2021-09-17T11:39:59.878567",
     "exception": false,
     "start_time": "2021-09-17T11:39:59.863687",
     "status": "completed"
    },
    "tags": []
   },
   "source": [
    "# Kom i gang med DAT801-2021-konkurransen\n",
    "\n",
    "***UNDER CONSTRUCTION***\n",
    "\n",
    "\n",
    "Denne notebooken beskriver hvordan du kan:\n",
    "1. Laste inn data: vi bruker Pandas til å laste inn trenings- og test-data\n",
    "2. Undersøke features: vi undersøker et par features via statistikk og enkle plots.\n",
    "3. Submitte dine prediksjoner for scoring (og plassering på leaderboard): etter at du har laget en modell og produsert prediksjoner på testdata så må du samle disse i en fil som Kaggle kan bruke til scoring. \n",
    "\n",
    "_Hvis du vil bruke denne notebooken som utgangspunkt for ditt eget arbeid kan du trykke \"Fork\"_\n",
    "\n",
    "Du kan eventuelt bruke Google Colab eller din egen maskin. For å bruke Colab, (i) last ned notebooken på din egen maskin, (ii) gå til https://colab.research.google.com, logg inn, og last opp notebooken. "
   ]
  },
  {
   "cell_type": "markdown",
   "id": "321d8615",
   "metadata": {
    "papermill": {
     "duration": 0.013714,
     "end_time": "2021-09-17T11:39:59.906119",
     "exception": false,
     "start_time": "2021-09-17T11:39:59.892405",
     "status": "completed"
    },
    "tags": []
   },
   "source": [
    "# Setup"
   ]
  },
  {
   "cell_type": "code",
   "execution_count": 1,
   "id": "d85bcef5",
   "metadata": {
    "execution": {
     "iopub.execute_input": "2021-09-17T11:39:59.936955Z",
     "iopub.status.busy": "2021-09-17T11:39:59.935907Z",
     "iopub.status.idle": "2021-09-17T11:40:00.894420Z",
     "shell.execute_reply": "2021-09-17T11:40:00.893753Z",
     "shell.execute_reply.started": "2021-09-17T11:22:50.997153Z"
    },
    "papermill": {
     "duration": 0.974883,
     "end_time": "2021-09-17T11:40:00.894592",
     "exception": false,
     "start_time": "2021-09-17T11:39:59.919709",
     "status": "completed"
    },
    "tags": []
   },
   "outputs": [],
   "source": [
    "%matplotlib inline\n",
    "import numpy as np, pandas as pd, seaborn as sns, matplotlib.pyplot as plt\n",
    "from pathlib import Path"
   ]
  },
  {
   "cell_type": "markdown",
   "id": "55044634",
   "metadata": {
    "papermill": {
     "duration": 0.013645,
     "end_time": "2021-09-17T11:40:00.922222",
     "exception": false,
     "start_time": "2021-09-17T11:40:00.908577",
     "status": "completed"
    },
    "tags": []
   },
   "source": [
    "# Last inn data"
   ]
  },
  {
   "cell_type": "markdown",
   "id": "22be1ee7",
   "metadata": {
    "papermill": {
     "duration": 0.01327,
     "end_time": "2021-09-17T11:40:00.949055",
     "exception": false,
     "start_time": "2021-09-17T11:40:00.935785",
     "status": "completed"
    },
    "tags": []
   },
   "source": [
    "## Hvis du arbeider lokalt\n",
    "\n",
    "Last ned data via Data-menyen på konkurransens hjemmeside.\n",
    "\n",
    "## Hvis du bruker Colab\n",
    "\n",
    "Kjør følgende celle:"
   ]
  },
  {
   "cell_type": "code",
   "execution_count": 2,
   "id": "36d2d3d4",
   "metadata": {
    "execution": {
     "iopub.execute_input": "2021-09-17T11:40:00.980128Z",
     "iopub.status.busy": "2021-09-17T11:40:00.979473Z",
     "iopub.status.idle": "2021-09-17T11:40:00.981826Z",
     "shell.execute_reply": "2021-09-17T11:40:00.982332Z",
     "shell.execute_reply.started": "2021-09-17T11:22:51.881230Z"
    },
    "papermill": {
     "duration": 0.019973,
     "end_time": "2021-09-17T11:40:00.982498",
     "exception": false,
     "start_time": "2021-09-17T11:40:00.962525",
     "status": "completed"
    },
    "tags": []
   },
   "outputs": [],
   "source": [
    "#train = pd.read_csv('https://raw.githubusercontent.com/alu042/DAT801/master/KaggleInClass/train.csv')\n",
    "#test = pd.read_csv('https://raw.githubusercontent.com/alu042/DAT801/master/KaggleInClass/test.csv')\n",
    "#sampleSubmission = pd.read_csv('https://raw.githubusercontent.com/alu042/DAT801/master/KaggleInClass/sampleSubmission.csv')"
   ]
  },
  {
   "cell_type": "markdown",
   "id": "3f8861f5",
   "metadata": {
    "papermill": {
     "duration": 0.022227,
     "end_time": "2021-09-17T11:40:01.018595",
     "exception": false,
     "start_time": "2021-09-17T11:40:00.996368",
     "status": "completed"
    },
    "tags": []
   },
   "source": [
    "## Hvis du bruker Kaggle"
   ]
  },
  {
   "cell_type": "code",
   "execution_count": 3,
   "id": "8ae5f541",
   "metadata": {
    "execution": {
     "iopub.execute_input": "2021-09-17T11:40:01.069760Z",
     "iopub.status.busy": "2021-09-17T11:40:01.068976Z",
     "iopub.status.idle": "2021-09-17T11:40:01.078260Z",
     "shell.execute_reply": "2021-09-17T11:40:01.078970Z",
     "shell.execute_reply.started": "2021-09-17T11:22:51.886438Z"
    },
    "papermill": {
     "duration": 0.037959,
     "end_time": "2021-09-17T11:40:01.079232",
     "exception": false,
     "start_time": "2021-09-17T11:40:01.041273",
     "status": "completed"
    },
    "tags": []
   },
   "outputs": [
    {
     "data": {
      "text/plain": [
       "[PosixPath('../input/dat801-2021-assignment1/sample_submission.csv'),\n",
       " PosixPath('../input/dat801-2021-assignment1/train.csv'),\n",
       " PosixPath('../input/dat801-2021-assignment1/test.csv')]"
      ]
     },
     "execution_count": 3,
     "metadata": {},
     "output_type": "execute_result"
    }
   ],
   "source": [
    "DATA = Path('../input/dat801-2021-assignment1')\n",
    "list(DATA.iterdir())"
   ]
  },
  {
   "cell_type": "code",
   "execution_count": 4,
   "id": "dabfda42",
   "metadata": {
    "execution": {
     "iopub.execute_input": "2021-09-17T11:40:01.120608Z",
     "iopub.status.busy": "2021-09-17T11:40:01.119698Z",
     "iopub.status.idle": "2021-09-17T11:40:03.151493Z",
     "shell.execute_reply": "2021-09-17T11:40:03.150991Z",
     "shell.execute_reply.started": "2021-09-17T11:22:51.904381Z"
    },
    "papermill": {
     "duration": 2.04851,
     "end_time": "2021-09-17T11:40:03.151638",
     "exception": false,
     "start_time": "2021-09-17T11:40:01.103128",
     "status": "completed"
    },
    "tags": []
   },
   "outputs": [],
   "source": [
    "train = pd.read_csv(DATA/'train.csv')\n",
    "test = pd.read_csv(DATA/'test.csv')\n",
    "sampleSubmission = pd.read_csv(DATA/'sample_submission.csv')"
   ]
  },
  {
   "cell_type": "markdown",
   "id": "d33dca18",
   "metadata": {
    "papermill": {
     "duration": 0.013292,
     "end_time": "2021-09-17T11:40:03.179150",
     "exception": false,
     "start_time": "2021-09-17T11:40:03.165858",
     "status": "completed"
    },
    "tags": []
   },
   "source": [
    "# Ta en titt på data"
   ]
  },
  {
   "cell_type": "code",
   "execution_count": 5,
   "id": "634dec27",
   "metadata": {
    "execution": {
     "iopub.execute_input": "2021-09-17T11:40:03.210214Z",
     "iopub.status.busy": "2021-09-17T11:40:03.209322Z",
     "iopub.status.idle": "2021-09-17T11:40:03.242624Z",
     "shell.execute_reply": "2021-09-17T11:40:03.243136Z",
     "shell.execute_reply.started": "2021-09-17T11:22:54.153061Z"
    },
    "papermill": {
     "duration": 0.050501,
     "end_time": "2021-09-17T11:40:03.243300",
     "exception": false,
     "start_time": "2021-09-17T11:40:03.192799",
     "status": "completed"
    },
    "tags": []
   },
   "outputs": [
    {
     "data": {
      "text/html": [
       "<div>\n",
       "<style scoped>\n",
       "    .dataframe tbody tr th:only-of-type {\n",
       "        vertical-align: middle;\n",
       "    }\n",
       "\n",
       "    .dataframe tbody tr th {\n",
       "        vertical-align: top;\n",
       "    }\n",
       "\n",
       "    .dataframe thead th {\n",
       "        text-align: right;\n",
       "    }\n",
       "</style>\n",
       "<table border=\"1\" class=\"dataframe\">\n",
       "  <thead>\n",
       "    <tr style=\"text-align: right;\">\n",
       "      <th></th>\n",
       "      <th>id</th>\n",
       "      <th>f_0</th>\n",
       "      <th>f_1</th>\n",
       "      <th>f_2</th>\n",
       "      <th>f_3</th>\n",
       "      <th>f_4</th>\n",
       "      <th>f_5</th>\n",
       "      <th>f_6</th>\n",
       "      <th>f_7</th>\n",
       "      <th>f_8</th>\n",
       "      <th>...</th>\n",
       "      <th>f_66</th>\n",
       "      <th>f_67</th>\n",
       "      <th>f_68</th>\n",
       "      <th>f_69</th>\n",
       "      <th>f_70</th>\n",
       "      <th>f_71</th>\n",
       "      <th>f_72</th>\n",
       "      <th>f_73</th>\n",
       "      <th>f_74</th>\n",
       "      <th>target</th>\n",
       "    </tr>\n",
       "  </thead>\n",
       "  <tbody>\n",
       "    <tr>\n",
       "      <th>0</th>\n",
       "      <td>161363</td>\n",
       "      <td>1.0</td>\n",
       "      <td>0.0</td>\n",
       "      <td>0.0</td>\n",
       "      <td>0.0</td>\n",
       "      <td>1.0</td>\n",
       "      <td>0.0</td>\n",
       "      <td>0.0</td>\n",
       "      <td>1.0</td>\n",
       "      <td>0.0</td>\n",
       "      <td>...</td>\n",
       "      <td>0.0</td>\n",
       "      <td>8.0</td>\n",
       "      <td>0.0</td>\n",
       "      <td>0.0</td>\n",
       "      <td>0.0</td>\n",
       "      <td>NaN</td>\n",
       "      <td>NaN</td>\n",
       "      <td>0.0</td>\n",
       "      <td>0.0</td>\n",
       "      <td>6</td>\n",
       "    </tr>\n",
       "    <tr>\n",
       "      <th>1</th>\n",
       "      <td>78028</td>\n",
       "      <td>16.0</td>\n",
       "      <td>0.0</td>\n",
       "      <td>1.0</td>\n",
       "      <td>1.0</td>\n",
       "      <td>6.0</td>\n",
       "      <td>2.0</td>\n",
       "      <td>2.0</td>\n",
       "      <td>2.0</td>\n",
       "      <td>14.0</td>\n",
       "      <td>...</td>\n",
       "      <td>0.0</td>\n",
       "      <td>41.0</td>\n",
       "      <td>3.0</td>\n",
       "      <td>0.0</td>\n",
       "      <td>0.0</td>\n",
       "      <td>0.0</td>\n",
       "      <td>2.0</td>\n",
       "      <td>1.0</td>\n",
       "      <td>1.0</td>\n",
       "      <td>7</td>\n",
       "    </tr>\n",
       "    <tr>\n",
       "      <th>2</th>\n",
       "      <td>35324</td>\n",
       "      <td>0.0</td>\n",
       "      <td>3.0</td>\n",
       "      <td>0.0</td>\n",
       "      <td>1.0</td>\n",
       "      <td>1.0</td>\n",
       "      <td>0.0</td>\n",
       "      <td>0.0</td>\n",
       "      <td>0.0</td>\n",
       "      <td>2.0</td>\n",
       "      <td>...</td>\n",
       "      <td>0.0</td>\n",
       "      <td>0.0</td>\n",
       "      <td>0.0</td>\n",
       "      <td>1.0</td>\n",
       "      <td>1.0</td>\n",
       "      <td>0.0</td>\n",
       "      <td>1.0</td>\n",
       "      <td>0.0</td>\n",
       "      <td>0.0</td>\n",
       "      <td>5</td>\n",
       "    </tr>\n",
       "    <tr>\n",
       "      <th>3</th>\n",
       "      <td>67966</td>\n",
       "      <td>0.0</td>\n",
       "      <td>0.0</td>\n",
       "      <td>0.0</td>\n",
       "      <td>0.0</td>\n",
       "      <td>0.0</td>\n",
       "      <td>1.0</td>\n",
       "      <td>0.0</td>\n",
       "      <td>0.0</td>\n",
       "      <td>0.0</td>\n",
       "      <td>...</td>\n",
       "      <td>0.0</td>\n",
       "      <td>0.0</td>\n",
       "      <td>0.0</td>\n",
       "      <td>2.0</td>\n",
       "      <td>0.0</td>\n",
       "      <td>0.0</td>\n",
       "      <td>0.0</td>\n",
       "      <td>0.0</td>\n",
       "      <td>0.0</td>\n",
       "      <td>1</td>\n",
       "    </tr>\n",
       "    <tr>\n",
       "      <th>4</th>\n",
       "      <td>110279</td>\n",
       "      <td>3.0</td>\n",
       "      <td>0.0</td>\n",
       "      <td>0.0</td>\n",
       "      <td>2.0</td>\n",
       "      <td>0.0</td>\n",
       "      <td>0.0</td>\n",
       "      <td>0.0</td>\n",
       "      <td>2.0</td>\n",
       "      <td>NaN</td>\n",
       "      <td>...</td>\n",
       "      <td>0.0</td>\n",
       "      <td>0.0</td>\n",
       "      <td>1.0</td>\n",
       "      <td>5.0</td>\n",
       "      <td>4.0</td>\n",
       "      <td>0.0</td>\n",
       "      <td>0.0</td>\n",
       "      <td>0.0</td>\n",
       "      <td>1.0</td>\n",
       "      <td>5</td>\n",
       "    </tr>\n",
       "  </tbody>\n",
       "</table>\n",
       "<p>5 rows × 77 columns</p>\n",
       "</div>"
      ],
      "text/plain": [
       "       id   f_0  f_1  f_2  f_3  f_4  f_5  f_6  f_7   f_8  ...  f_66  f_67  \\\n",
       "0  161363   1.0  0.0  0.0  0.0  1.0  0.0  0.0  1.0   0.0  ...   0.0   8.0   \n",
       "1   78028  16.0  0.0  1.0  1.0  6.0  2.0  2.0  2.0  14.0  ...   0.0  41.0   \n",
       "2   35324   0.0  3.0  0.0  1.0  1.0  0.0  0.0  0.0   2.0  ...   0.0   0.0   \n",
       "3   67966   0.0  0.0  0.0  0.0  0.0  1.0  0.0  0.0   0.0  ...   0.0   0.0   \n",
       "4  110279   3.0  0.0  0.0  2.0  0.0  0.0  0.0  2.0   NaN  ...   0.0   0.0   \n",
       "\n",
       "   f_68  f_69  f_70  f_71  f_72  f_73  f_74  target  \n",
       "0   0.0   0.0   0.0   NaN   NaN   0.0   0.0       6  \n",
       "1   3.0   0.0   0.0   0.0   2.0   1.0   1.0       7  \n",
       "2   0.0   1.0   1.0   0.0   1.0   0.0   0.0       5  \n",
       "3   0.0   2.0   0.0   0.0   0.0   0.0   0.0       1  \n",
       "4   1.0   5.0   4.0   0.0   0.0   0.0   1.0       5  \n",
       "\n",
       "[5 rows x 77 columns]"
      ]
     },
     "execution_count": 5,
     "metadata": {},
     "output_type": "execute_result"
    }
   ],
   "source": [
    "train.head()"
   ]
  },
  {
   "cell_type": "code",
   "execution_count": 6,
   "id": "217db267",
   "metadata": {
    "execution": {
     "iopub.execute_input": "2021-09-17T11:40:03.278790Z",
     "iopub.status.busy": "2021-09-17T11:40:03.277702Z",
     "iopub.status.idle": "2021-09-17T11:40:03.323218Z",
     "shell.execute_reply": "2021-09-17T11:40:03.323906Z",
     "shell.execute_reply.started": "2021-09-17T11:22:54.196575Z"
    },
    "papermill": {
     "duration": 0.066712,
     "end_time": "2021-09-17T11:40:03.324127",
     "exception": false,
     "start_time": "2021-09-17T11:40:03.257415",
     "status": "completed"
    },
    "tags": []
   },
   "outputs": [
    {
     "name": "stdout",
     "output_type": "stream",
     "text": [
      "<class 'pandas.core.frame.DataFrame'>\n",
      "RangeIndex: 150000 entries, 0 to 149999\n",
      "Data columns (total 77 columns):\n",
      " #   Column  Non-Null Count   Dtype  \n",
      "---  ------  --------------   -----  \n",
      " 0   id      150000 non-null  int64  \n",
      " 1   f_0     147000 non-null  float64\n",
      " 2   f_1     148500 non-null  float64\n",
      " 3   f_2     149250 non-null  float64\n",
      " 4   f_3     149250 non-null  float64\n",
      " 5   f_4     148500 non-null  float64\n",
      " 6   f_5     149250 non-null  float64\n",
      " 7   f_6     147000 non-null  float64\n",
      " 8   f_7     147000 non-null  float64\n",
      " 9   f_8     149250 non-null  float64\n",
      " 10  f_9     148500 non-null  float64\n",
      " 11  f_10    148500 non-null  float64\n",
      " 12  f_11    148500 non-null  float64\n",
      " 13  f_12    148500 non-null  float64\n",
      " 14  f_13    148500 non-null  float64\n",
      " 15  f_14    149250 non-null  float64\n",
      " 16  f_15    147000 non-null  float64\n",
      " 17  f_16    149250 non-null  float64\n",
      " 18  f_17    148500 non-null  float64\n",
      " 19  f_18    148500 non-null  float64\n",
      " 20  f_19    148500 non-null  float64\n",
      " 21  f_20    148500 non-null  float64\n",
      " 22  f_21    147000 non-null  float64\n",
      " 23  f_22    148500 non-null  float64\n",
      " 24  f_23    147000 non-null  float64\n",
      " 25  f_24    149250 non-null  float64\n",
      " 26  f_25    149250 non-null  float64\n",
      " 27  f_26    147000 non-null  float64\n",
      " 28  f_27    149250 non-null  float64\n",
      " 29  f_28    148500 non-null  float64\n",
      " 30  f_29    147000 non-null  float64\n",
      " 31  f_30    148500 non-null  float64\n",
      " 32  f_31    148500 non-null  float64\n",
      " 33  f_32    148500 non-null  float64\n",
      " 34  f_33    147000 non-null  float64\n",
      " 35  f_34    148500 non-null  float64\n",
      " 36  f_35    149250 non-null  float64\n",
      " 37  f_36    148500 non-null  float64\n",
      " 38  f_37    148500 non-null  float64\n",
      " 39  f_38    148500 non-null  float64\n",
      " 40  f_39    149250 non-null  float64\n",
      " 41  f_40    149250 non-null  float64\n",
      " 42  f_41    147000 non-null  float64\n",
      " 43  f_42    148500 non-null  float64\n",
      " 44  f_43    149250 non-null  float64\n",
      " 45  f_44    147000 non-null  float64\n",
      " 46  f_45    149250 non-null  float64\n",
      " 47  f_46    147000 non-null  float64\n",
      " 48  f_47    147000 non-null  float64\n",
      " 49  f_48    148500 non-null  float64\n",
      " 50  f_49    147000 non-null  float64\n",
      " 51  f_50    147000 non-null  float64\n",
      " 52  f_51    147000 non-null  float64\n",
      " 53  f_52    149250 non-null  float64\n",
      " 54  f_53    147000 non-null  float64\n",
      " 55  f_54    149250 non-null  float64\n",
      " 56  f_55    147000 non-null  float64\n",
      " 57  f_56    149250 non-null  float64\n",
      " 58  f_57    148500 non-null  float64\n",
      " 59  f_58    148500 non-null  float64\n",
      " 60  f_59    147000 non-null  float64\n",
      " 61  f_60    149250 non-null  float64\n",
      " 62  f_61    148500 non-null  float64\n",
      " 63  f_62    147000 non-null  float64\n",
      " 64  f_63    147000 non-null  float64\n",
      " 65  f_64    148500 non-null  float64\n",
      " 66  f_65    149250 non-null  float64\n",
      " 67  f_66    147000 non-null  float64\n",
      " 68  f_67    149250 non-null  float64\n",
      " 69  f_68    148500 non-null  float64\n",
      " 70  f_69    149250 non-null  float64\n",
      " 71  f_70    148500 non-null  float64\n",
      " 72  f_71    147000 non-null  float64\n",
      " 73  f_72    147000 non-null  float64\n",
      " 74  f_73    148500 non-null  float64\n",
      " 75  f_74    148500 non-null  float64\n",
      " 76  target  150000 non-null  int64  \n",
      "dtypes: float64(75), int64(2)\n",
      "memory usage: 88.1 MB\n"
     ]
    }
   ],
   "source": [
    "train.info()"
   ]
  },
  {
   "cell_type": "markdown",
   "id": "c9a6d8aa",
   "metadata": {
    "papermill": {
     "duration": 0.014516,
     "end_time": "2021-09-17T11:40:03.355242",
     "exception": false,
     "start_time": "2021-09-17T11:40:03.340726",
     "status": "completed"
    },
    "tags": []
   },
   "source": [
    "Vi ser at det er 150.000 instanser i treningsdata. Det mangler noen verdier i hver av features (som er noe en må takle ved hjelp av imputering eller lignende)."
   ]
  },
  {
   "cell_type": "code",
   "execution_count": 7,
   "id": "8f503935",
   "metadata": {
    "execution": {
     "iopub.execute_input": "2021-09-17T11:40:03.397575Z",
     "iopub.status.busy": "2021-09-17T11:40:03.396584Z",
     "iopub.status.idle": "2021-09-17T11:40:03.413384Z",
     "shell.execute_reply": "2021-09-17T11:40:03.413955Z",
     "shell.execute_reply.started": "2021-09-17T11:22:54.251554Z"
    },
    "papermill": {
     "duration": 0.040442,
     "end_time": "2021-09-17T11:40:03.414137",
     "exception": false,
     "start_time": "2021-09-17T11:40:03.373695",
     "status": "completed"
    },
    "tags": []
   },
   "outputs": [
    {
     "data": {
      "text/html": [
       "<div>\n",
       "<style scoped>\n",
       "    .dataframe tbody tr th:only-of-type {\n",
       "        vertical-align: middle;\n",
       "    }\n",
       "\n",
       "    .dataframe tbody tr th {\n",
       "        vertical-align: top;\n",
       "    }\n",
       "\n",
       "    .dataframe thead th {\n",
       "        text-align: right;\n",
       "    }\n",
       "</style>\n",
       "<table border=\"1\" class=\"dataframe\">\n",
       "  <thead>\n",
       "    <tr style=\"text-align: right;\">\n",
       "      <th></th>\n",
       "      <th>id</th>\n",
       "      <th>f_0</th>\n",
       "      <th>f_1</th>\n",
       "      <th>f_2</th>\n",
       "      <th>f_3</th>\n",
       "      <th>f_4</th>\n",
       "      <th>f_5</th>\n",
       "      <th>f_6</th>\n",
       "      <th>f_7</th>\n",
       "      <th>f_8</th>\n",
       "      <th>...</th>\n",
       "      <th>f_65</th>\n",
       "      <th>f_66</th>\n",
       "      <th>f_67</th>\n",
       "      <th>f_68</th>\n",
       "      <th>f_69</th>\n",
       "      <th>f_70</th>\n",
       "      <th>f_71</th>\n",
       "      <th>f_72</th>\n",
       "      <th>f_73</th>\n",
       "      <th>f_74</th>\n",
       "    </tr>\n",
       "  </thead>\n",
       "  <tbody>\n",
       "    <tr>\n",
       "      <th>0</th>\n",
       "      <td>105982</td>\n",
       "      <td>0</td>\n",
       "      <td>0</td>\n",
       "      <td>10</td>\n",
       "      <td>0</td>\n",
       "      <td>0</td>\n",
       "      <td>0</td>\n",
       "      <td>0</td>\n",
       "      <td>0</td>\n",
       "      <td>1</td>\n",
       "      <td>...</td>\n",
       "      <td>0</td>\n",
       "      <td>0</td>\n",
       "      <td>1</td>\n",
       "      <td>0</td>\n",
       "      <td>1</td>\n",
       "      <td>0</td>\n",
       "      <td>0</td>\n",
       "      <td>0</td>\n",
       "      <td>0</td>\n",
       "      <td>0</td>\n",
       "    </tr>\n",
       "    <tr>\n",
       "      <th>1</th>\n",
       "      <td>137351</td>\n",
       "      <td>0</td>\n",
       "      <td>0</td>\n",
       "      <td>0</td>\n",
       "      <td>0</td>\n",
       "      <td>0</td>\n",
       "      <td>1</td>\n",
       "      <td>0</td>\n",
       "      <td>0</td>\n",
       "      <td>0</td>\n",
       "      <td>...</td>\n",
       "      <td>0</td>\n",
       "      <td>0</td>\n",
       "      <td>0</td>\n",
       "      <td>0</td>\n",
       "      <td>6</td>\n",
       "      <td>0</td>\n",
       "      <td>0</td>\n",
       "      <td>0</td>\n",
       "      <td>0</td>\n",
       "      <td>0</td>\n",
       "    </tr>\n",
       "    <tr>\n",
       "      <th>2</th>\n",
       "      <td>151824</td>\n",
       "      <td>0</td>\n",
       "      <td>0</td>\n",
       "      <td>0</td>\n",
       "      <td>0</td>\n",
       "      <td>0</td>\n",
       "      <td>1</td>\n",
       "      <td>0</td>\n",
       "      <td>0</td>\n",
       "      <td>1</td>\n",
       "      <td>...</td>\n",
       "      <td>0</td>\n",
       "      <td>0</td>\n",
       "      <td>0</td>\n",
       "      <td>0</td>\n",
       "      <td>0</td>\n",
       "      <td>0</td>\n",
       "      <td>0</td>\n",
       "      <td>0</td>\n",
       "      <td>0</td>\n",
       "      <td>0</td>\n",
       "    </tr>\n",
       "    <tr>\n",
       "      <th>3</th>\n",
       "      <td>152873</td>\n",
       "      <td>1</td>\n",
       "      <td>2</td>\n",
       "      <td>0</td>\n",
       "      <td>1</td>\n",
       "      <td>2</td>\n",
       "      <td>1</td>\n",
       "      <td>1</td>\n",
       "      <td>2</td>\n",
       "      <td>0</td>\n",
       "      <td>...</td>\n",
       "      <td>4</td>\n",
       "      <td>0</td>\n",
       "      <td>1</td>\n",
       "      <td>1</td>\n",
       "      <td>0</td>\n",
       "      <td>1</td>\n",
       "      <td>1</td>\n",
       "      <td>0</td>\n",
       "      <td>0</td>\n",
       "      <td>0</td>\n",
       "    </tr>\n",
       "    <tr>\n",
       "      <th>4</th>\n",
       "      <td>61900</td>\n",
       "      <td>3</td>\n",
       "      <td>0</td>\n",
       "      <td>0</td>\n",
       "      <td>0</td>\n",
       "      <td>0</td>\n",
       "      <td>0</td>\n",
       "      <td>0</td>\n",
       "      <td>0</td>\n",
       "      <td>0</td>\n",
       "      <td>...</td>\n",
       "      <td>0</td>\n",
       "      <td>0</td>\n",
       "      <td>3</td>\n",
       "      <td>0</td>\n",
       "      <td>3</td>\n",
       "      <td>0</td>\n",
       "      <td>0</td>\n",
       "      <td>0</td>\n",
       "      <td>0</td>\n",
       "      <td>0</td>\n",
       "    </tr>\n",
       "  </tbody>\n",
       "</table>\n",
       "<p>5 rows × 76 columns</p>\n",
       "</div>"
      ],
      "text/plain": [
       "       id  f_0  f_1  f_2  f_3  f_4  f_5  f_6  f_7  f_8  ...  f_65  f_66  f_67  \\\n",
       "0  105982    0    0   10    0    0    0    0    0    1  ...     0     0     1   \n",
       "1  137351    0    0    0    0    0    1    0    0    0  ...     0     0     0   \n",
       "2  151824    0    0    0    0    0    1    0    0    1  ...     0     0     0   \n",
       "3  152873    1    2    0    1    2    1    1    2    0  ...     4     0     1   \n",
       "4   61900    3    0    0    0    0    0    0    0    0  ...     0     0     3   \n",
       "\n",
       "   f_68  f_69  f_70  f_71  f_72  f_73  f_74  \n",
       "0     0     1     0     0     0     0     0  \n",
       "1     0     6     0     0     0     0     0  \n",
       "2     0     0     0     0     0     0     0  \n",
       "3     1     0     1     1     0     0     0  \n",
       "4     0     3     0     0     0     0     0  \n",
       "\n",
       "[5 rows x 76 columns]"
      ]
     },
     "execution_count": 7,
     "metadata": {},
     "output_type": "execute_result"
    }
   ],
   "source": [
    "test.head()"
   ]
  },
  {
   "cell_type": "code",
   "execution_count": 8,
   "id": "88f3bc9f",
   "metadata": {
    "execution": {
     "iopub.execute_input": "2021-09-17T11:40:03.460092Z",
     "iopub.status.busy": "2021-09-17T11:40:03.457468Z",
     "iopub.status.idle": "2021-09-17T11:40:03.491378Z",
     "shell.execute_reply": "2021-09-17T11:40:03.492160Z",
     "shell.execute_reply.started": "2021-09-17T11:22:54.272480Z"
    },
    "papermill": {
     "duration": 0.060454,
     "end_time": "2021-09-17T11:40:03.492401",
     "exception": false,
     "start_time": "2021-09-17T11:40:03.431947",
     "status": "completed"
    },
    "tags": []
   },
   "outputs": [
    {
     "name": "stdout",
     "output_type": "stream",
     "text": [
      "<class 'pandas.core.frame.DataFrame'>\n",
      "RangeIndex: 50000 entries, 0 to 49999\n",
      "Data columns (total 76 columns):\n",
      " #   Column  Non-Null Count  Dtype\n",
      "---  ------  --------------  -----\n",
      " 0   id      50000 non-null  int64\n",
      " 1   f_0     50000 non-null  int64\n",
      " 2   f_1     50000 non-null  int64\n",
      " 3   f_2     50000 non-null  int64\n",
      " 4   f_3     50000 non-null  int64\n",
      " 5   f_4     50000 non-null  int64\n",
      " 6   f_5     50000 non-null  int64\n",
      " 7   f_6     50000 non-null  int64\n",
      " 8   f_7     50000 non-null  int64\n",
      " 9   f_8     50000 non-null  int64\n",
      " 10  f_9     50000 non-null  int64\n",
      " 11  f_10    50000 non-null  int64\n",
      " 12  f_11    50000 non-null  int64\n",
      " 13  f_12    50000 non-null  int64\n",
      " 14  f_13    50000 non-null  int64\n",
      " 15  f_14    50000 non-null  int64\n",
      " 16  f_15    50000 non-null  int64\n",
      " 17  f_16    50000 non-null  int64\n",
      " 18  f_17    50000 non-null  int64\n",
      " 19  f_18    50000 non-null  int64\n",
      " 20  f_19    50000 non-null  int64\n",
      " 21  f_20    50000 non-null  int64\n",
      " 22  f_21    50000 non-null  int64\n",
      " 23  f_22    50000 non-null  int64\n",
      " 24  f_23    50000 non-null  int64\n",
      " 25  f_24    50000 non-null  int64\n",
      " 26  f_25    50000 non-null  int64\n",
      " 27  f_26    50000 non-null  int64\n",
      " 28  f_27    50000 non-null  int64\n",
      " 29  f_28    50000 non-null  int64\n",
      " 30  f_29    50000 non-null  int64\n",
      " 31  f_30    50000 non-null  int64\n",
      " 32  f_31    50000 non-null  int64\n",
      " 33  f_32    50000 non-null  int64\n",
      " 34  f_33    50000 non-null  int64\n",
      " 35  f_34    50000 non-null  int64\n",
      " 36  f_35    50000 non-null  int64\n",
      " 37  f_36    50000 non-null  int64\n",
      " 38  f_37    50000 non-null  int64\n",
      " 39  f_38    50000 non-null  int64\n",
      " 40  f_39    50000 non-null  int64\n",
      " 41  f_40    50000 non-null  int64\n",
      " 42  f_41    50000 non-null  int64\n",
      " 43  f_42    50000 non-null  int64\n",
      " 44  f_43    50000 non-null  int64\n",
      " 45  f_44    50000 non-null  int64\n",
      " 46  f_45    50000 non-null  int64\n",
      " 47  f_46    50000 non-null  int64\n",
      " 48  f_47    50000 non-null  int64\n",
      " 49  f_48    50000 non-null  int64\n",
      " 50  f_49    50000 non-null  int64\n",
      " 51  f_50    50000 non-null  int64\n",
      " 52  f_51    50000 non-null  int64\n",
      " 53  f_52    50000 non-null  int64\n",
      " 54  f_53    50000 non-null  int64\n",
      " 55  f_54    50000 non-null  int64\n",
      " 56  f_55    50000 non-null  int64\n",
      " 57  f_56    50000 non-null  int64\n",
      " 58  f_57    50000 non-null  int64\n",
      " 59  f_58    50000 non-null  int64\n",
      " 60  f_59    50000 non-null  int64\n",
      " 61  f_60    50000 non-null  int64\n",
      " 62  f_61    50000 non-null  int64\n",
      " 63  f_62    50000 non-null  int64\n",
      " 64  f_63    50000 non-null  int64\n",
      " 65  f_64    50000 non-null  int64\n",
      " 66  f_65    50000 non-null  int64\n",
      " 67  f_66    50000 non-null  int64\n",
      " 68  f_67    50000 non-null  int64\n",
      " 69  f_68    50000 non-null  int64\n",
      " 70  f_69    50000 non-null  int64\n",
      " 71  f_70    50000 non-null  int64\n",
      " 72  f_71    50000 non-null  int64\n",
      " 73  f_72    50000 non-null  int64\n",
      " 74  f_73    50000 non-null  int64\n",
      " 75  f_74    50000 non-null  int64\n",
      "dtypes: int64(76)\n",
      "memory usage: 29.0 MB\n"
     ]
    }
   ],
   "source": [
    "test.info()"
   ]
  },
  {
   "cell_type": "markdown",
   "id": "c3f1b384",
   "metadata": {
    "papermill": {
     "duration": 0.025146,
     "end_time": "2021-09-17T11:40:03.543831",
     "exception": false,
     "start_time": "2021-09-17T11:40:03.518685",
     "status": "completed"
    },
    "tags": []
   },
   "source": [
    "Det er 50.000 test-instanser, og det ser ikke ut til å mangle noen features. "
   ]
  },
  {
   "cell_type": "markdown",
   "id": "8489f2c0",
   "metadata": {
    "papermill": {
     "duration": 0.025753,
     "end_time": "2021-09-17T11:40:03.595254",
     "exception": false,
     "start_time": "2021-09-17T11:40:03.569501",
     "status": "completed"
    },
    "tags": []
   },
   "source": [
    "# Utforsk data, preprosesser data, utforsk modeller (\"model selection\"), prediker & evaluer"
   ]
  },
  {
   "cell_type": "markdown",
   "id": "e80f1d14",
   "metadata": {
    "papermill": {
     "duration": 0.025136,
     "end_time": "2021-09-17T11:40:03.646581",
     "exception": false,
     "start_time": "2021-09-17T11:40:03.621445",
     "status": "completed"
    },
    "tags": []
   },
   "source": [
    "Jeg overlater disse delene til dere. Du bør utforske features via statistikk og plots, forsøke å avdekke sammenhenger mellom features og mellom features og labels ved å undersøke korrelasjoner og lignende, og gjerne forsøke å konstruere nye features ved å kombinere eksisterende. Før du kan trene modeller må du sørge for at data er på en egnet form. Du må blant annet finne ut hvordan du best kan takle manglende verdier (\"missing values\"). Husk å designe et grundig evalueringsoppsett som du kan bruke underveis i utforskingen av modeller. Kryss-validering er naturlig. Bør du kanskje vurdere stratifisert splitting i trening- og validerings-data? Hva med ensembling av flere modeller?"
   ]
  },
  {
   "cell_type": "markdown",
   "id": "e6d19b17",
   "metadata": {
    "papermill": {
     "duration": 0.026685,
     "end_time": "2021-09-17T11:40:03.699950",
     "exception": false,
     "start_time": "2021-09-17T11:40:03.673265",
     "status": "completed"
    },
    "tags": []
   },
   "source": [
    "# Submission"
   ]
  },
  {
   "cell_type": "markdown",
   "id": "a7bc39bc",
   "metadata": {
    "papermill": {
     "duration": 0.025654,
     "end_time": "2021-09-17T11:40:03.751900",
     "exception": false,
     "start_time": "2021-09-17T11:40:03.726246",
     "status": "completed"
    },
    "tags": []
   },
   "source": [
    "Etter at du har trent din modell / dine modeller og produsert prediksjoner på test-data, så må du lage en CSV-fil på korrekt form som kan scores av Kaggle. Den skal ha samme form som `sample_submission.csv`:"
   ]
  },
  {
   "cell_type": "code",
   "execution_count": 9,
   "id": "a6ec3412",
   "metadata": {
    "execution": {
     "iopub.execute_input": "2021-09-17T11:40:03.815472Z",
     "iopub.status.busy": "2021-09-17T11:40:03.814530Z",
     "iopub.status.idle": "2021-09-17T11:40:03.821798Z",
     "shell.execute_reply": "2021-09-17T11:40:03.822644Z",
     "shell.execute_reply.started": "2021-09-17T11:29:51.826200Z"
    },
    "papermill": {
     "duration": 0.045099,
     "end_time": "2021-09-17T11:40:03.822871",
     "exception": false,
     "start_time": "2021-09-17T11:40:03.777772",
     "status": "completed"
    },
    "tags": []
   },
   "outputs": [
    {
     "data": {
      "text/html": [
       "<div>\n",
       "<style scoped>\n",
       "    .dataframe tbody tr th:only-of-type {\n",
       "        vertical-align: middle;\n",
       "    }\n",
       "\n",
       "    .dataframe tbody tr th {\n",
       "        vertical-align: top;\n",
       "    }\n",
       "\n",
       "    .dataframe thead th {\n",
       "        text-align: right;\n",
       "    }\n",
       "</style>\n",
       "<table border=\"1\" class=\"dataframe\">\n",
       "  <thead>\n",
       "    <tr style=\"text-align: right;\">\n",
       "      <th></th>\n",
       "      <th>id</th>\n",
       "      <th>target</th>\n",
       "    </tr>\n",
       "  </thead>\n",
       "  <tbody>\n",
       "    <tr>\n",
       "      <th>0</th>\n",
       "      <td>105982</td>\n",
       "      <td>7</td>\n",
       "    </tr>\n",
       "    <tr>\n",
       "      <th>1</th>\n",
       "      <td>137351</td>\n",
       "      <td>7</td>\n",
       "    </tr>\n",
       "    <tr>\n",
       "      <th>2</th>\n",
       "      <td>151824</td>\n",
       "      <td>7</td>\n",
       "    </tr>\n",
       "    <tr>\n",
       "      <th>3</th>\n",
       "      <td>152873</td>\n",
       "      <td>7</td>\n",
       "    </tr>\n",
       "    <tr>\n",
       "      <th>4</th>\n",
       "      <td>61900</td>\n",
       "      <td>7</td>\n",
       "    </tr>\n",
       "  </tbody>\n",
       "</table>\n",
       "</div>"
      ],
      "text/plain": [
       "       id  target\n",
       "0  105982       7\n",
       "1  137351       7\n",
       "2  151824       7\n",
       "3  152873       7\n",
       "4   61900       7"
      ]
     },
     "execution_count": 9,
     "metadata": {},
     "output_type": "execute_result"
    }
   ],
   "source": [
    "sampleSubmission.head()"
   ]
  },
  {
   "cell_type": "markdown",
   "id": "2ce01a7f",
   "metadata": {
    "papermill": {
     "duration": 0.028621,
     "end_time": "2021-09-17T11:40:03.878122",
     "exception": false,
     "start_time": "2021-09-17T11:40:03.849501",
     "status": "completed"
    },
    "tags": []
   },
   "source": [
    "Her er en fremgangsmåte:\n",
    "\n",
    "Vi trenger først en vektor med tilfeldige prediksjoner:"
   ]
  },
  {
   "cell_type": "code",
   "execution_count": 10,
   "id": "e5125579",
   "metadata": {
    "execution": {
     "iopub.execute_input": "2021-09-17T11:40:03.931937Z",
     "iopub.status.busy": "2021-09-17T11:40:03.931040Z",
     "iopub.status.idle": "2021-09-17T11:40:03.942213Z",
     "shell.execute_reply": "2021-09-17T11:40:03.942659Z",
     "shell.execute_reply.started": "2021-09-17T11:32:01.343104Z"
    },
    "papermill": {
     "duration": 0.040069,
     "end_time": "2021-09-17T11:40:03.942819",
     "exception": false,
     "start_time": "2021-09-17T11:40:03.902750",
     "status": "completed"
    },
    "tags": []
   },
   "outputs": [
    {
     "data": {
      "text/plain": [
       "array([8, 4, 4, ..., 8, 4, 0])"
      ]
     },
     "execution_count": 10,
     "metadata": {},
     "output_type": "execute_result"
    }
   ],
   "source": [
    "target = np.random.choice(range(9), size=len(test))\n",
    "target"
   ]
  },
  {
   "cell_type": "markdown",
   "id": "3a416d5f",
   "metadata": {
    "papermill": {
     "duration": 0.027628,
     "end_time": "2021-09-17T11:40:03.997761",
     "exception": false,
     "start_time": "2021-09-17T11:40:03.970133",
     "status": "completed"
    },
    "tags": []
   },
   "source": [
    "Vi kan så bygge en dataframe via en Python dictionary med nøkler (\"keys\") 'id' og 'target':"
   ]
  },
  {
   "cell_type": "code",
   "execution_count": 11,
   "id": "797678d0",
   "metadata": {
    "execution": {
     "iopub.execute_input": "2021-09-17T11:40:04.056836Z",
     "iopub.status.busy": "2021-09-17T11:40:04.055929Z",
     "iopub.status.idle": "2021-09-17T11:40:04.059533Z",
     "shell.execute_reply": "2021-09-17T11:40:04.060180Z",
     "shell.execute_reply.started": "2021-09-17T11:32:58.983589Z"
    },
    "papermill": {
     "duration": 0.036937,
     "end_time": "2021-09-17T11:40:04.060412",
     "exception": false,
     "start_time": "2021-09-17T11:40:04.023475",
     "status": "completed"
    },
    "tags": []
   },
   "outputs": [],
   "source": [
    "submission = pd.DataFrame({'id': test['id'], 'target': target})"
   ]
  },
  {
   "cell_type": "code",
   "execution_count": 12,
   "id": "42b408b7",
   "metadata": {
    "execution": {
     "iopub.execute_input": "2021-09-17T11:40:04.114703Z",
     "iopub.status.busy": "2021-09-17T11:40:04.113801Z",
     "iopub.status.idle": "2021-09-17T11:40:04.123496Z",
     "shell.execute_reply": "2021-09-17T11:40:04.124024Z",
     "shell.execute_reply.started": "2021-09-17T11:33:02.995876Z"
    },
    "papermill": {
     "duration": 0.040506,
     "end_time": "2021-09-17T11:40:04.124185",
     "exception": false,
     "start_time": "2021-09-17T11:40:04.083679",
     "status": "completed"
    },
    "tags": []
   },
   "outputs": [
    {
     "data": {
      "text/html": [
       "<div>\n",
       "<style scoped>\n",
       "    .dataframe tbody tr th:only-of-type {\n",
       "        vertical-align: middle;\n",
       "    }\n",
       "\n",
       "    .dataframe tbody tr th {\n",
       "        vertical-align: top;\n",
       "    }\n",
       "\n",
       "    .dataframe thead th {\n",
       "        text-align: right;\n",
       "    }\n",
       "</style>\n",
       "<table border=\"1\" class=\"dataframe\">\n",
       "  <thead>\n",
       "    <tr style=\"text-align: right;\">\n",
       "      <th></th>\n",
       "      <th>id</th>\n",
       "      <th>target</th>\n",
       "    </tr>\n",
       "  </thead>\n",
       "  <tbody>\n",
       "    <tr>\n",
       "      <th>0</th>\n",
       "      <td>105982</td>\n",
       "      <td>8</td>\n",
       "    </tr>\n",
       "    <tr>\n",
       "      <th>1</th>\n",
       "      <td>137351</td>\n",
       "      <td>4</td>\n",
       "    </tr>\n",
       "    <tr>\n",
       "      <th>2</th>\n",
       "      <td>151824</td>\n",
       "      <td>4</td>\n",
       "    </tr>\n",
       "    <tr>\n",
       "      <th>3</th>\n",
       "      <td>152873</td>\n",
       "      <td>2</td>\n",
       "    </tr>\n",
       "    <tr>\n",
       "      <th>4</th>\n",
       "      <td>61900</td>\n",
       "      <td>4</td>\n",
       "    </tr>\n",
       "  </tbody>\n",
       "</table>\n",
       "</div>"
      ],
      "text/plain": [
       "       id  target\n",
       "0  105982       8\n",
       "1  137351       4\n",
       "2  151824       4\n",
       "3  152873       2\n",
       "4   61900       4"
      ]
     },
     "execution_count": 12,
     "metadata": {},
     "output_type": "execute_result"
    }
   ],
   "source": [
    "submission.head()"
   ]
  },
  {
   "cell_type": "markdown",
   "id": "3537c18d",
   "metadata": {
    "papermill": {
     "duration": 0.027003,
     "end_time": "2021-09-17T11:40:04.179016",
     "exception": false,
     "start_time": "2021-09-17T11:40:04.152013",
     "status": "completed"
    },
    "tags": []
   },
   "source": [
    "Denne kan lagres som en CSV vi kan laste opp på Kaggle for scoring:"
   ]
  },
  {
   "cell_type": "code",
   "execution_count": 13,
   "id": "c42bad39",
   "metadata": {
    "execution": {
     "iopub.execute_input": "2021-09-17T11:40:04.226765Z",
     "iopub.status.busy": "2021-09-17T11:40:04.225830Z",
     "iopub.status.idle": "2021-09-17T11:40:04.314400Z",
     "shell.execute_reply": "2021-09-17T11:40:04.313542Z",
     "shell.execute_reply.started": "2021-09-17T11:34:09.635550Z"
    },
    "papermill": {
     "duration": 0.112029,
     "end_time": "2021-09-17T11:40:04.314591",
     "exception": false,
     "start_time": "2021-09-17T11:40:04.202562",
     "status": "completed"
    },
    "tags": []
   },
   "outputs": [],
   "source": [
    "submission.to_csv('submission.csv', index=False)"
   ]
  }
 ],
 "metadata": {
  "kernelspec": {
   "display_name": "Python 3",
   "language": "python",
   "name": "python3"
  },
  "language_info": {
   "codemirror_mode": {
    "name": "ipython",
    "version": 3
   },
   "file_extension": ".py",
   "mimetype": "text/x-python",
   "name": "python",
   "nbconvert_exporter": "python",
   "pygments_lexer": "ipython3",
   "version": "3.8.3"
  },
  "papermill": {
   "default_parameters": {},
   "duration": 12.439157,
   "end_time": "2021-09-17T11:40:05.057838",
   "environment_variables": {},
   "exception": null,
   "input_path": "__notebook__.ipynb",
   "output_path": "__notebook__.ipynb",
   "parameters": {},
   "start_time": "2021-09-17T11:39:52.618681",
   "version": "2.3.3"
  }
 },
 "nbformat": 4,
 "nbformat_minor": 5
}
