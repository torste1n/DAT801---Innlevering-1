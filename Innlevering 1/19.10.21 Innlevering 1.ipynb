{
 "cells": [
  {
   "cell_type": "code",
   "execution_count": 1,
   "id": "79f9c4aa",
   "metadata": {
    "scrolled": true
   },
   "outputs": [
    {
     "name": "stdout",
     "output_type": "stream",
     "text": [
      "done\n"
     ]
    }
   ],
   "source": [
    "%matplotlib inline\n",
    "import numpy as np, pandas as pd, seaborn as sns, matplotlib.pyplot as plt\n",
    "from pathlib import Path\n",
    "from sklearn import datasets\n",
    "plt.style.use(\"ggplot\")\n",
    "pd.set_option('display.max_rows', 500)\n",
    "print(\"done\")"
   ]
  },
  {
   "cell_type": "markdown",
   "id": "a77952eb",
   "metadata": {},
   "source": [
    "# Plan\n",
    "\n",
    "### Utforske\n",
    "1. Splitt sett og fjern ID. Bruker X_test som devsett siden submission er testsett.\n",
    "2. Se på korrelasjoner\n",
    "3. Se på tallverdier og balanse\n",
    "\n",
    "### Manipuler\n",
    "1. Imputere\n",
    "2. Jevne ut treningseksempler med oversampling (PRØV LITT FORSKJELLIG)\n",
    "3. Lag polynomial features\n",
    "4. Skaler minmax (0->1)\n",
    "5. Best feature selection. Prøv ulike k verdier mot RF.\n",
    "\n",
    "### Modell\n",
    "1. Random forrest\n",
    "2. GBC\n",
    "3. Logistic Regression\n",
    "3. NN (for tidkrevende..)\n",
    "    - Diverse arkitektur\n",
    "Kryssvalidering\n",
    "\n",
    "### Ensemble\n",
    "1. Random forrest med div random_state + andre modeller\n",
    "Kryssvalider"
   ]
  },
  {
   "cell_type": "code",
   "execution_count": 2,
   "id": "d640551f",
   "metadata": {},
   "outputs": [
    {
     "name": "stdout",
     "output_type": "stream",
     "text": [
      "done\n"
     ]
    }
   ],
   "source": [
    "# Laste datasett\n",
    "df = pd.read_csv('train.csv')\n",
    "final_test = pd.read_csv('test.csv')\n",
    "print(\"done\")"
   ]
  },
  {
   "cell_type": "code",
   "execution_count": 3,
   "id": "0360652d",
   "metadata": {
    "scrolled": true
   },
   "outputs": [
    {
     "data": {
      "text/html": [
       "<div>\n",
       "<style scoped>\n",
       "    .dataframe tbody tr th:only-of-type {\n",
       "        vertical-align: middle;\n",
       "    }\n",
       "\n",
       "    .dataframe tbody tr th {\n",
       "        vertical-align: top;\n",
       "    }\n",
       "\n",
       "    .dataframe thead th {\n",
       "        text-align: right;\n",
       "    }\n",
       "</style>\n",
       "<table border=\"1\" class=\"dataframe\">\n",
       "  <thead>\n",
       "    <tr style=\"text-align: right;\">\n",
       "      <th></th>\n",
       "      <th>id</th>\n",
       "      <th>f_0</th>\n",
       "      <th>f_1</th>\n",
       "      <th>f_2</th>\n",
       "      <th>f_3</th>\n",
       "      <th>f_4</th>\n",
       "      <th>f_5</th>\n",
       "      <th>f_6</th>\n",
       "      <th>f_7</th>\n",
       "      <th>f_8</th>\n",
       "      <th>...</th>\n",
       "      <th>f_66</th>\n",
       "      <th>f_67</th>\n",
       "      <th>f_68</th>\n",
       "      <th>f_69</th>\n",
       "      <th>f_70</th>\n",
       "      <th>f_71</th>\n",
       "      <th>f_72</th>\n",
       "      <th>f_73</th>\n",
       "      <th>f_74</th>\n",
       "      <th>target</th>\n",
       "    </tr>\n",
       "  </thead>\n",
       "  <tbody>\n",
       "    <tr>\n",
       "      <th>0</th>\n",
       "      <td>161363</td>\n",
       "      <td>1.0</td>\n",
       "      <td>0.0</td>\n",
       "      <td>0.0</td>\n",
       "      <td>0.0</td>\n",
       "      <td>1.0</td>\n",
       "      <td>0.0</td>\n",
       "      <td>0.0</td>\n",
       "      <td>1.0</td>\n",
       "      <td>0.0</td>\n",
       "      <td>...</td>\n",
       "      <td>0.0</td>\n",
       "      <td>8.0</td>\n",
       "      <td>0.0</td>\n",
       "      <td>0.0</td>\n",
       "      <td>0.0</td>\n",
       "      <td>NaN</td>\n",
       "      <td>NaN</td>\n",
       "      <td>0.0</td>\n",
       "      <td>0.0</td>\n",
       "      <td>6</td>\n",
       "    </tr>\n",
       "    <tr>\n",
       "      <th>1</th>\n",
       "      <td>78028</td>\n",
       "      <td>16.0</td>\n",
       "      <td>0.0</td>\n",
       "      <td>1.0</td>\n",
       "      <td>1.0</td>\n",
       "      <td>6.0</td>\n",
       "      <td>2.0</td>\n",
       "      <td>2.0</td>\n",
       "      <td>2.0</td>\n",
       "      <td>14.0</td>\n",
       "      <td>...</td>\n",
       "      <td>0.0</td>\n",
       "      <td>41.0</td>\n",
       "      <td>3.0</td>\n",
       "      <td>0.0</td>\n",
       "      <td>0.0</td>\n",
       "      <td>0.0</td>\n",
       "      <td>2.0</td>\n",
       "      <td>1.0</td>\n",
       "      <td>1.0</td>\n",
       "      <td>7</td>\n",
       "    </tr>\n",
       "    <tr>\n",
       "      <th>2</th>\n",
       "      <td>35324</td>\n",
       "      <td>0.0</td>\n",
       "      <td>3.0</td>\n",
       "      <td>0.0</td>\n",
       "      <td>1.0</td>\n",
       "      <td>1.0</td>\n",
       "      <td>0.0</td>\n",
       "      <td>0.0</td>\n",
       "      <td>0.0</td>\n",
       "      <td>2.0</td>\n",
       "      <td>...</td>\n",
       "      <td>0.0</td>\n",
       "      <td>0.0</td>\n",
       "      <td>0.0</td>\n",
       "      <td>1.0</td>\n",
       "      <td>1.0</td>\n",
       "      <td>0.0</td>\n",
       "      <td>1.0</td>\n",
       "      <td>0.0</td>\n",
       "      <td>0.0</td>\n",
       "      <td>5</td>\n",
       "    </tr>\n",
       "    <tr>\n",
       "      <th>3</th>\n",
       "      <td>67966</td>\n",
       "      <td>0.0</td>\n",
       "      <td>0.0</td>\n",
       "      <td>0.0</td>\n",
       "      <td>0.0</td>\n",
       "      <td>0.0</td>\n",
       "      <td>1.0</td>\n",
       "      <td>0.0</td>\n",
       "      <td>0.0</td>\n",
       "      <td>0.0</td>\n",
       "      <td>...</td>\n",
       "      <td>0.0</td>\n",
       "      <td>0.0</td>\n",
       "      <td>0.0</td>\n",
       "      <td>2.0</td>\n",
       "      <td>0.0</td>\n",
       "      <td>0.0</td>\n",
       "      <td>0.0</td>\n",
       "      <td>0.0</td>\n",
       "      <td>0.0</td>\n",
       "      <td>1</td>\n",
       "    </tr>\n",
       "    <tr>\n",
       "      <th>4</th>\n",
       "      <td>110279</td>\n",
       "      <td>3.0</td>\n",
       "      <td>0.0</td>\n",
       "      <td>0.0</td>\n",
       "      <td>2.0</td>\n",
       "      <td>0.0</td>\n",
       "      <td>0.0</td>\n",
       "      <td>0.0</td>\n",
       "      <td>2.0</td>\n",
       "      <td>NaN</td>\n",
       "      <td>...</td>\n",
       "      <td>0.0</td>\n",
       "      <td>0.0</td>\n",
       "      <td>1.0</td>\n",
       "      <td>5.0</td>\n",
       "      <td>4.0</td>\n",
       "      <td>0.0</td>\n",
       "      <td>0.0</td>\n",
       "      <td>0.0</td>\n",
       "      <td>1.0</td>\n",
       "      <td>5</td>\n",
       "    </tr>\n",
       "  </tbody>\n",
       "</table>\n",
       "<p>5 rows × 77 columns</p>\n",
       "</div>"
      ],
      "text/plain": [
       "       id   f_0  f_1  f_2  f_3  f_4  f_5  f_6  f_7   f_8  ...  f_66  f_67  \\\n",
       "0  161363   1.0  0.0  0.0  0.0  1.0  0.0  0.0  1.0   0.0  ...   0.0   8.0   \n",
       "1   78028  16.0  0.0  1.0  1.0  6.0  2.0  2.0  2.0  14.0  ...   0.0  41.0   \n",
       "2   35324   0.0  3.0  0.0  1.0  1.0  0.0  0.0  0.0   2.0  ...   0.0   0.0   \n",
       "3   67966   0.0  0.0  0.0  0.0  0.0  1.0  0.0  0.0   0.0  ...   0.0   0.0   \n",
       "4  110279   3.0  0.0  0.0  2.0  0.0  0.0  0.0  2.0   NaN  ...   0.0   0.0   \n",
       "\n",
       "   f_68  f_69  f_70  f_71  f_72  f_73  f_74  target  \n",
       "0   0.0   0.0   0.0   NaN   NaN   0.0   0.0       6  \n",
       "1   3.0   0.0   0.0   0.0   2.0   1.0   1.0       7  \n",
       "2   0.0   1.0   1.0   0.0   1.0   0.0   0.0       5  \n",
       "3   0.0   2.0   0.0   0.0   0.0   0.0   0.0       1  \n",
       "4   1.0   5.0   4.0   0.0   0.0   0.0   1.0       5  \n",
       "\n",
       "[5 rows x 77 columns]"
      ]
     },
     "execution_count": 3,
     "metadata": {},
     "output_type": "execute_result"
    }
   ],
   "source": [
    "df.head()"
   ]
  },
  {
   "cell_type": "code",
   "execution_count": 4,
   "id": "f84b87fc",
   "metadata": {},
   "outputs": [
    {
     "data": {
      "image/png": "[encoded data removed]",
      "text/plain": [
       "<Figure size 1008x576 with 1 Axes>"
      ]
     },
     "metadata": {},
     "output_type": "display_data"
    }
   ],
   "source": [
    "plt.figure(figsize=(14,8))\n",
    "sns.histplot(df.target, kde=True)\n",
    "plt.show()"
   ]
  },
  {
   "cell_type": "code",
   "execution_count": 5,
   "id": "3f88bf03",
   "metadata": {},
   "outputs": [],
   "source": [
    "# Splitt sett og fjern ID\n",
    "X = df.drop([\"id\", \"target\"], axis=1)\n",
    "y = df.target"
   ]
  },
  {
   "cell_type": "code",
   "execution_count": 6,
   "id": "c82b67bf",
   "metadata": {},
   "outputs": [],
   "source": [
    "from sklearn.model_selection import train_test_split\n",
    "X_train, X_test, y_train, y_test = train_test_split(X, y, random_state=42)"
   ]
  },
  {
   "cell_type": "code",
   "execution_count": 7,
   "id": "d5ee5096",
   "metadata": {
    "scrolled": true
   },
   "outputs": [
    {
     "data": {
      "text/plain": [
       "target    1.000000\n",
       "f_18      0.109225\n",
       "f_12      0.098614\n",
       "f_37      0.091127\n",
       "f_16      0.091115\n",
       "f_14      0.087081\n",
       "f_31      0.087022\n",
       "f_56      0.083190\n",
       "f_53      0.082934\n",
       "f_43      0.082718\n",
       "f_44      0.078521\n",
       "f_8       0.077783\n",
       "f_65      0.065839\n",
       "f_50      0.063174\n",
       "f_2       0.062145\n",
       "f_30      0.060896\n",
       "f_1       0.060701\n",
       "f_52      0.060658\n",
       "f_45      0.060602\n",
       "f_48      0.060213\n",
       "f_3       0.059389\n",
       "f_40      0.058565\n",
       "f_7       0.058184\n",
       "f_62      0.056302\n",
       "f_72      0.056286\n",
       "f_21      0.055670\n",
       "f_54      0.055190\n",
       "f_9       0.054638\n",
       "f_4       0.053981\n",
       "f_35      0.053606\n",
       "f_58      0.053503\n",
       "f_55      0.052959\n",
       "f_13      0.051407\n",
       "f_67      0.050199\n",
       "f_19      0.050083\n",
       "f_23      0.049936\n",
       "f_70      0.049498\n",
       "f_73      0.049412\n",
       "f_64      0.048424\n",
       "f_51      0.048145\n",
       "f_25      0.047777\n",
       "f_66      0.047245\n",
       "f_60      0.047217\n",
       "f_28      0.046377\n",
       "f_46      0.044630\n",
       "f_34      0.044065\n",
       "f_29      0.043046\n",
       "f_0       0.041229\n",
       "f_38      0.041060\n",
       "f_42      0.040706\n",
       "f_63      0.040113\n",
       "f_41      0.039773\n",
       "f_32      0.037984\n",
       "f_61      0.037860\n",
       "f_39      0.037499\n",
       "f_22      0.037456\n",
       "f_24      0.035387\n",
       "f_68      0.035030\n",
       "f_27      0.034979\n",
       "f_10      0.033661\n",
       "f_15      0.033079\n",
       "f_57      0.033074\n",
       "f_59      0.031823\n",
       "f_47      0.030925\n",
       "f_5       0.030439\n",
       "f_6       0.030189\n",
       "f_26      0.029436\n",
       "f_49      0.028291\n",
       "f_33      0.027732\n",
       "f_36      0.027620\n",
       "f_74      0.022618\n",
       "f_69      0.019931\n",
       "f_17      0.015442\n",
       "f_71      0.014553\n",
       "f_11      0.007535\n",
       "f_20      0.000682\n",
       "Name: target, dtype: float64"
      ]
     },
     "execution_count": 7,
     "metadata": {},
     "output_type": "execute_result"
    }
   ],
   "source": [
    "# Korrelasjon\n",
    "train_df = pd.concat([X_train, y_train], axis=1)\n",
    "correlation = abs(train_df.corr()[\"target\"].sort_values(ascending=False))\n",
    "correlation"
   ]
  },
  {
   "cell_type": "markdown",
   "id": "36c9fac4",
   "metadata": {},
   "source": [
    "# Korrelasjonsverdier ved utskifting av NaN (sum av korrelasjon)\n",
    "##### No action: 4.7253954611416855\n",
    "##### Interpolate linear: 4.691405084847958\n",
    "##### Impute mean: 4.704097869632694 - Bruker denne\n",
    "##### Impute median: 4.7033247989275875\n",
    "##### Impute most_frequent: 4.7029082339562125\n",
    "##### Impute constant: 4.7029082339562125"
   ]
  },
  {
   "cell_type": "code",
   "execution_count": 8,
   "id": "87796c69",
   "metadata": {},
   "outputs": [],
   "source": [
    "from sklearn.impute import SimpleImputer"
   ]
  },
  {
   "cell_type": "markdown",
   "id": "78f6d294",
   "metadata": {},
   "source": [
    "strat = [\"mean\", \"median\", \"most_frequent\", \"constant\"]"
   ]
  },
  {
   "cell_type": "markdown",
   "id": "f58c1aae",
   "metadata": {},
   "source": [
    "imp_result = []\n",
    "for s in strat:\n",
    "    imp = SimpleImputer(strategy=s)\n",
    "    train_df_imp = imp.fit_transform(train_df)\n",
    "    train_df_imp = pd.DataFrame(data=train_df_imp, columns=train_df.columns)\n",
    "    correlation_imp = abs(train_df_imp.corr()[\"target\"].sort_values(ascending=False))\n",
    "    imp_result.append(sum(correlation_imp))"
   ]
  },
  {
   "cell_type": "markdown",
   "id": "5c6815d7",
   "metadata": {
    "scrolled": false
   },
   "source": [
    "imp_result"
   ]
  },
  {
   "cell_type": "code",
   "execution_count": 9,
   "id": "85e96e1f",
   "metadata": {},
   "outputs": [],
   "source": [
    "imp = SimpleImputer(strategy=\"mean\")\n",
    "X_train_imp = imp.fit_transform(X_train)\n",
    "X_train_imp = pd.DataFrame(data=X_train_imp, columns=X_train.columns)\n",
    "\n",
    "X_test_imp = imp.transform(X_test)\n",
    "X_test_imp = pd.DataFrame(data=X_test_imp, columns=X_train.columns)\n"
   ]
  },
  {
   "cell_type": "code",
   "execution_count": 10,
   "id": "7f5f69dd",
   "metadata": {},
   "outputs": [
    {
     "name": "stdout",
     "output_type": "stream",
     "text": [
      "f_0     0\n",
      "f_1     0\n",
      "f_2     0\n",
      "f_3     0\n",
      "f_4     0\n",
      "f_5     0\n",
      "f_6     0\n",
      "f_7     0\n",
      "f_8     0\n",
      "f_9     0\n",
      "f_10    0\n",
      "f_11    0\n",
      "f_12    0\n",
      "f_13    0\n",
      "f_14    0\n",
      "f_15    0\n",
      "f_16    0\n",
      "f_17    0\n",
      "f_18    0\n",
      "f_19    0\n",
      "f_20    0\n",
      "f_21    0\n",
      "f_22    0\n",
      "f_23    0\n",
      "f_24    0\n",
      "f_25    0\n",
      "f_26    0\n",
      "f_27    0\n",
      "f_28    0\n",
      "f_29    0\n",
      "f_30    0\n",
      "f_31    0\n",
      "f_32    0\n",
      "f_33    0\n",
      "f_34    0\n",
      "f_35    0\n",
      "f_36    0\n",
      "f_37    0\n",
      "f_38    0\n",
      "f_39    0\n",
      "f_40    0\n",
      "f_41    0\n",
      "f_42    0\n",
      "f_43    0\n",
      "f_44    0\n",
      "f_45    0\n",
      "f_46    0\n",
      "f_47    0\n",
      "f_48    0\n",
      "f_49    0\n",
      "f_50    0\n",
      "f_51    0\n",
      "f_52    0\n",
      "f_53    0\n",
      "f_54    0\n",
      "f_55    0\n",
      "f_56    0\n",
      "f_57    0\n",
      "f_58    0\n",
      "f_59    0\n",
      "f_60    0\n",
      "f_61    0\n",
      "f_62    0\n",
      "f_63    0\n",
      "f_64    0\n",
      "f_65    0\n",
      "f_66    0\n",
      "f_67    0\n",
      "f_68    0\n",
      "f_69    0\n",
      "f_70    0\n",
      "f_71    0\n",
      "f_72    0\n",
      "f_73    0\n",
      "f_74    0\n",
      "dtype: int64\n"
     ]
    }
   ],
   "source": [
    "with pd.option_context('display.max_rows', None):\n",
    "    print(X_train_imp.isna().sum())"
   ]
  },
  {
   "cell_type": "code",
   "execution_count": 11,
   "id": "85485e6e",
   "metadata": {},
   "outputs": [],
   "source": [
    "# Random over and undersampling\n",
    "from imblearn.over_sampling import RandomOverSampler\n",
    "from imblearn.under_sampling import RandomUnderSampler"
   ]
  },
  {
   "cell_type": "code",
   "execution_count": 12,
   "id": "3f30df7d",
   "metadata": {},
   "outputs": [
    {
     "data": {
      "image/png": "[encoded data removed]",
      "text/plain": [
       "<Figure size 1008x576 with 1 Axes>"
      ]
     },
     "metadata": {},
     "output_type": "display_data"
    }
   ],
   "source": [
    "plt.figure(figsize=(14,8))\n",
    "sns.histplot(y_train, kde=True)\n",
    "plt.show()"
   ]
  },
  {
   "cell_type": "code",
   "execution_count": 13,
   "id": "854e60e2",
   "metadata": {},
   "outputs": [
    {
     "name": "stdout",
     "output_type": "stream",
     "text": [
      "7    29275\n",
      "5    28955\n",
      "8    14375\n",
      "1    13765\n",
      "6     8369\n",
      "2     8307\n",
      "0     5121\n",
      "3     2621\n",
      "4     1712\n",
      "Name: target, dtype: int64\n"
     ]
    }
   ],
   "source": [
    "with pd.option_context('display.max_rows', None):\n",
    "    print(y_train.value_counts())"
   ]
  },
  {
   "cell_type": "markdown",
   "id": "72d71fbb",
   "metadata": {},
   "source": [
    "Test av ulike samlingverdier. Verdiene under gjorde det mulig å kjøre uten kræsj."
   ]
  },
  {
   "cell_type": "code",
   "execution_count": 14,
   "id": "5c000dde",
   "metadata": {},
   "outputs": [],
   "source": [
    "#When ``dict``, the keys correspond to the targeted classes. Vi øker de små og reduserer de store.\n",
    "classes = {0: 5121, 1:13765, 2:8307, 3:5000, 4:5000, 5:28955, 6:8369, 7:29275, 8:14375}\n",
    "oversample = RandomOverSampler(sampling_strategy=classes)\n",
    "undersample = RandomUnderSampler(sampling_strategy={1:10000, 5: 20000, 7: 20000, 8:10000})"
   ]
  },
  {
   "cell_type": "code",
   "execution_count": 15,
   "id": "fc58295b",
   "metadata": {},
   "outputs": [],
   "source": [
    "#oversample\n",
    "X_train_imp_over, y_train_over = oversample.fit_resample(X_train_imp, y_train)"
   ]
  },
  {
   "cell_type": "code",
   "execution_count": 16,
   "id": "e56dde6f",
   "metadata": {},
   "outputs": [],
   "source": [
    "#undersample\n",
    "X_train_imp_over_under, y_train_over_under = undersample.fit_resample(X_train_imp_over, y_train_over)"
   ]
  },
  {
   "cell_type": "code",
   "execution_count": 17,
   "id": "fdbb866c",
   "metadata": {},
   "outputs": [
    {
     "data": {
      "image/png": "[encoded data removed]",
      "text/plain": [
       "<Figure size 1008x576 with 1 Axes>"
      ]
     },
     "metadata": {},
     "output_type": "display_data"
    }
   ],
   "source": [
    "plt.figure(figsize=(14,8))\n",
    "sns.histplot(y_train_over_under, kde=True)\n",
    "plt.show()"
   ]
  },
  {
   "cell_type": "code",
   "execution_count": 18,
   "id": "e716a1eb",
   "metadata": {},
   "outputs": [],
   "source": [
    "# Polynomialvariabler\n",
    "from sklearn.preprocessing import PolynomialFeatures"
   ]
  },
  {
   "cell_type": "code",
   "execution_count": 19,
   "id": "545d3e9b",
   "metadata": {},
   "outputs": [],
   "source": [
    "from math import comb"
   ]
  },
  {
   "cell_type": "code",
   "execution_count": 20,
   "id": "a68d013c",
   "metadata": {},
   "outputs": [
    {
     "data": {
      "text/plain": [
       "2925"
      ]
     },
     "execution_count": 20,
     "metadata": {},
     "output_type": "execute_result"
    }
   ],
   "source": [
    "# Forventet antall features\n",
    "75 + 75 + comb(75,2)"
   ]
  },
  {
   "cell_type": "code",
   "execution_count": 21,
   "id": "6ba39b7d",
   "metadata": {
    "scrolled": true
   },
   "outputs": [],
   "source": [
    "polys = PolynomialFeatures(degree=2, include_bias=False)\n",
    "\n",
    "# original\n",
    "polyfeatures_orig = polys.fit_transform(X_train_imp)\n",
    "X_train_imp_poly_orig = pd.DataFrame(data=polyfeatures_orig)"
   ]
  },
  {
   "cell_type": "code",
   "execution_count": 22,
   "id": "9c8bdfd4",
   "metadata": {},
   "outputs": [],
   "source": [
    "# over/under sampling\n",
    "polyfeatures_sampled = polys.transform(X_train_imp_over_under)\n",
    "X_train_imp_over_under_poly = pd.DataFrame(data=polyfeatures_sampled)"
   ]
  },
  {
   "cell_type": "code",
   "execution_count": 23,
   "id": "5ab0ea0d",
   "metadata": {},
   "outputs": [],
   "source": [
    "#test sett\n",
    "polyfeatures_test = polys.transform(X_test_imp)\n",
    "X_test_imp_poly = pd.DataFrame(data=polyfeatures_test)"
   ]
  },
  {
   "cell_type": "code",
   "execution_count": 24,
   "id": "6cab9162",
   "metadata": {},
   "outputs": [
    {
     "data": {
      "text/html": [
       "<div>\n",
       "<style scoped>\n",
       "    .dataframe tbody tr th:only-of-type {\n",
       "        vertical-align: middle;\n",
       "    }\n",
       "\n",
       "    .dataframe tbody tr th {\n",
       "        vertical-align: top;\n",
       "    }\n",
       "\n",
       "    .dataframe thead th {\n",
       "        text-align: right;\n",
       "    }\n",
       "</style>\n",
       "<table border=\"1\" class=\"dataframe\">\n",
       "  <thead>\n",
       "    <tr style=\"text-align: right;\">\n",
       "      <th></th>\n",
       "      <th>0</th>\n",
       "      <th>1</th>\n",
       "      <th>2</th>\n",
       "      <th>3</th>\n",
       "      <th>4</th>\n",
       "      <th>5</th>\n",
       "      <th>6</th>\n",
       "      <th>7</th>\n",
       "      <th>8</th>\n",
       "      <th>9</th>\n",
       "      <th>...</th>\n",
       "      <th>2915</th>\n",
       "      <th>2916</th>\n",
       "      <th>2917</th>\n",
       "      <th>2918</th>\n",
       "      <th>2919</th>\n",
       "      <th>2920</th>\n",
       "      <th>2921</th>\n",
       "      <th>2922</th>\n",
       "      <th>2923</th>\n",
       "      <th>2924</th>\n",
       "    </tr>\n",
       "  </thead>\n",
       "  <tbody>\n",
       "    <tr>\n",
       "      <th>0</th>\n",
       "      <td>0.0</td>\n",
       "      <td>0.0</td>\n",
       "      <td>0.000000</td>\n",
       "      <td>0.0</td>\n",
       "      <td>0.0</td>\n",
       "      <td>0.0</td>\n",
       "      <td>0.000000</td>\n",
       "      <td>3.000000</td>\n",
       "      <td>1.0</td>\n",
       "      <td>1.0</td>\n",
       "      <td>...</td>\n",
       "      <td>0.0</td>\n",
       "      <td>0.0</td>\n",
       "      <td>0.0</td>\n",
       "      <td>0.0</td>\n",
       "      <td>0.0</td>\n",
       "      <td>0.0</td>\n",
       "      <td>0.0</td>\n",
       "      <td>0.0</td>\n",
       "      <td>0.0</td>\n",
       "      <td>0.0</td>\n",
       "    </tr>\n",
       "    <tr>\n",
       "      <th>1</th>\n",
       "      <td>3.0</td>\n",
       "      <td>0.0</td>\n",
       "      <td>0.000000</td>\n",
       "      <td>0.0</td>\n",
       "      <td>8.0</td>\n",
       "      <td>1.0</td>\n",
       "      <td>1.000000</td>\n",
       "      <td>0.000000</td>\n",
       "      <td>0.0</td>\n",
       "      <td>2.0</td>\n",
       "      <td>...</td>\n",
       "      <td>0.0</td>\n",
       "      <td>0.0</td>\n",
       "      <td>0.0</td>\n",
       "      <td>0.0</td>\n",
       "      <td>0.0</td>\n",
       "      <td>0.0</td>\n",
       "      <td>0.0</td>\n",
       "      <td>4.0</td>\n",
       "      <td>0.0</td>\n",
       "      <td>0.0</td>\n",
       "    </tr>\n",
       "    <tr>\n",
       "      <th>2</th>\n",
       "      <td>0.0</td>\n",
       "      <td>0.0</td>\n",
       "      <td>2.213838</td>\n",
       "      <td>3.0</td>\n",
       "      <td>0.0</td>\n",
       "      <td>0.0</td>\n",
       "      <td>0.000000</td>\n",
       "      <td>0.000000</td>\n",
       "      <td>2.0</td>\n",
       "      <td>2.0</td>\n",
       "      <td>...</td>\n",
       "      <td>0.0</td>\n",
       "      <td>0.0</td>\n",
       "      <td>0.0</td>\n",
       "      <td>0.0</td>\n",
       "      <td>0.0</td>\n",
       "      <td>0.0</td>\n",
       "      <td>0.0</td>\n",
       "      <td>1.0</td>\n",
       "      <td>0.0</td>\n",
       "      <td>0.0</td>\n",
       "    </tr>\n",
       "    <tr>\n",
       "      <th>3</th>\n",
       "      <td>0.0</td>\n",
       "      <td>0.0</td>\n",
       "      <td>0.000000</td>\n",
       "      <td>0.0</td>\n",
       "      <td>0.0</td>\n",
       "      <td>0.0</td>\n",
       "      <td>1.009283</td>\n",
       "      <td>0.674143</td>\n",
       "      <td>0.0</td>\n",
       "      <td>0.0</td>\n",
       "      <td>...</td>\n",
       "      <td>1.0</td>\n",
       "      <td>0.0</td>\n",
       "      <td>0.0</td>\n",
       "      <td>0.0</td>\n",
       "      <td>0.0</td>\n",
       "      <td>0.0</td>\n",
       "      <td>0.0</td>\n",
       "      <td>0.0</td>\n",
       "      <td>0.0</td>\n",
       "      <td>0.0</td>\n",
       "    </tr>\n",
       "    <tr>\n",
       "      <th>4</th>\n",
       "      <td>0.0</td>\n",
       "      <td>0.0</td>\n",
       "      <td>0.000000</td>\n",
       "      <td>0.0</td>\n",
       "      <td>0.0</td>\n",
       "      <td>0.0</td>\n",
       "      <td>0.000000</td>\n",
       "      <td>0.000000</td>\n",
       "      <td>0.0</td>\n",
       "      <td>0.0</td>\n",
       "      <td>...</td>\n",
       "      <td>0.0</td>\n",
       "      <td>0.0</td>\n",
       "      <td>0.0</td>\n",
       "      <td>0.0</td>\n",
       "      <td>0.0</td>\n",
       "      <td>0.0</td>\n",
       "      <td>0.0</td>\n",
       "      <td>0.0</td>\n",
       "      <td>0.0</td>\n",
       "      <td>0.0</td>\n",
       "    </tr>\n",
       "    <tr>\n",
       "      <th>...</th>\n",
       "      <td>...</td>\n",
       "      <td>...</td>\n",
       "      <td>...</td>\n",
       "      <td>...</td>\n",
       "      <td>...</td>\n",
       "      <td>...</td>\n",
       "      <td>...</td>\n",
       "      <td>...</td>\n",
       "      <td>...</td>\n",
       "      <td>...</td>\n",
       "      <td>...</td>\n",
       "      <td>...</td>\n",
       "      <td>...</td>\n",
       "      <td>...</td>\n",
       "      <td>...</td>\n",
       "      <td>...</td>\n",
       "      <td>...</td>\n",
       "      <td>...</td>\n",
       "      <td>...</td>\n",
       "      <td>...</td>\n",
       "      <td>...</td>\n",
       "    </tr>\n",
       "    <tr>\n",
       "      <th>91792</th>\n",
       "      <td>0.0</td>\n",
       "      <td>0.0</td>\n",
       "      <td>0.000000</td>\n",
       "      <td>0.0</td>\n",
       "      <td>1.0</td>\n",
       "      <td>0.0</td>\n",
       "      <td>0.000000</td>\n",
       "      <td>0.000000</td>\n",
       "      <td>0.0</td>\n",
       "      <td>0.0</td>\n",
       "      <td>...</td>\n",
       "      <td>0.0</td>\n",
       "      <td>0.0</td>\n",
       "      <td>0.0</td>\n",
       "      <td>0.0</td>\n",
       "      <td>0.0</td>\n",
       "      <td>0.0</td>\n",
       "      <td>0.0</td>\n",
       "      <td>0.0</td>\n",
       "      <td>0.0</td>\n",
       "      <td>0.0</td>\n",
       "    </tr>\n",
       "    <tr>\n",
       "      <th>91793</th>\n",
       "      <td>0.0</td>\n",
       "      <td>0.0</td>\n",
       "      <td>0.000000</td>\n",
       "      <td>1.0</td>\n",
       "      <td>0.0</td>\n",
       "      <td>0.0</td>\n",
       "      <td>0.000000</td>\n",
       "      <td>3.000000</td>\n",
       "      <td>11.0</td>\n",
       "      <td>0.0</td>\n",
       "      <td>...</td>\n",
       "      <td>4.0</td>\n",
       "      <td>4.0</td>\n",
       "      <td>0.0</td>\n",
       "      <td>0.0</td>\n",
       "      <td>4.0</td>\n",
       "      <td>0.0</td>\n",
       "      <td>0.0</td>\n",
       "      <td>0.0</td>\n",
       "      <td>0.0</td>\n",
       "      <td>0.0</td>\n",
       "    </tr>\n",
       "    <tr>\n",
       "      <th>91794</th>\n",
       "      <td>0.0</td>\n",
       "      <td>0.0</td>\n",
       "      <td>0.000000</td>\n",
       "      <td>0.0</td>\n",
       "      <td>0.0</td>\n",
       "      <td>0.0</td>\n",
       "      <td>0.000000</td>\n",
       "      <td>0.000000</td>\n",
       "      <td>0.0</td>\n",
       "      <td>0.0</td>\n",
       "      <td>...</td>\n",
       "      <td>1.0</td>\n",
       "      <td>0.0</td>\n",
       "      <td>0.0</td>\n",
       "      <td>0.0</td>\n",
       "      <td>0.0</td>\n",
       "      <td>0.0</td>\n",
       "      <td>0.0</td>\n",
       "      <td>0.0</td>\n",
       "      <td>0.0</td>\n",
       "      <td>0.0</td>\n",
       "    </tr>\n",
       "    <tr>\n",
       "      <th>91795</th>\n",
       "      <td>0.0</td>\n",
       "      <td>0.0</td>\n",
       "      <td>0.000000</td>\n",
       "      <td>0.0</td>\n",
       "      <td>0.0</td>\n",
       "      <td>0.0</td>\n",
       "      <td>0.000000</td>\n",
       "      <td>0.000000</td>\n",
       "      <td>0.0</td>\n",
       "      <td>0.0</td>\n",
       "      <td>...</td>\n",
       "      <td>0.0</td>\n",
       "      <td>0.0</td>\n",
       "      <td>0.0</td>\n",
       "      <td>0.0</td>\n",
       "      <td>0.0</td>\n",
       "      <td>0.0</td>\n",
       "      <td>0.0</td>\n",
       "      <td>0.0</td>\n",
       "      <td>0.0</td>\n",
       "      <td>0.0</td>\n",
       "    </tr>\n",
       "    <tr>\n",
       "      <th>91796</th>\n",
       "      <td>0.0</td>\n",
       "      <td>0.0</td>\n",
       "      <td>0.000000</td>\n",
       "      <td>0.0</td>\n",
       "      <td>0.0</td>\n",
       "      <td>0.0</td>\n",
       "      <td>0.000000</td>\n",
       "      <td>0.000000</td>\n",
       "      <td>0.0</td>\n",
       "      <td>0.0</td>\n",
       "      <td>...</td>\n",
       "      <td>0.0</td>\n",
       "      <td>0.0</td>\n",
       "      <td>0.0</td>\n",
       "      <td>0.0</td>\n",
       "      <td>0.0</td>\n",
       "      <td>0.0</td>\n",
       "      <td>0.0</td>\n",
       "      <td>0.0</td>\n",
       "      <td>0.0</td>\n",
       "      <td>0.0</td>\n",
       "    </tr>\n",
       "  </tbody>\n",
       "</table>\n",
       "<p>91797 rows × 2925 columns</p>\n",
       "</div>"
      ],
      "text/plain": [
       "       0     1         2     3     4     5         6         7     8     9     \\\n",
       "0       0.0   0.0  0.000000   0.0   0.0   0.0  0.000000  3.000000   1.0   1.0   \n",
       "1       3.0   0.0  0.000000   0.0   8.0   1.0  1.000000  0.000000   0.0   2.0   \n",
       "2       0.0   0.0  2.213838   3.0   0.0   0.0  0.000000  0.000000   2.0   2.0   \n",
       "3       0.0   0.0  0.000000   0.0   0.0   0.0  1.009283  0.674143   0.0   0.0   \n",
       "4       0.0   0.0  0.000000   0.0   0.0   0.0  0.000000  0.000000   0.0   0.0   \n",
       "...     ...   ...       ...   ...   ...   ...       ...       ...   ...   ...   \n",
       "91792   0.0   0.0  0.000000   0.0   1.0   0.0  0.000000  0.000000   0.0   0.0   \n",
       "91793   0.0   0.0  0.000000   1.0   0.0   0.0  0.000000  3.000000  11.0   0.0   \n",
       "91794   0.0   0.0  0.000000   0.0   0.0   0.0  0.000000  0.000000   0.0   0.0   \n",
       "91795   0.0   0.0  0.000000   0.0   0.0   0.0  0.000000  0.000000   0.0   0.0   \n",
       "91796   0.0   0.0  0.000000   0.0   0.0   0.0  0.000000  0.000000   0.0   0.0   \n",
       "\n",
       "       ...  2915  2916  2917  2918  2919  2920  2921  2922  2923  2924  \n",
       "0      ...   0.0   0.0   0.0   0.0   0.0   0.0   0.0   0.0   0.0   0.0  \n",
       "1      ...   0.0   0.0   0.0   0.0   0.0   0.0   0.0   4.0   0.0   0.0  \n",
       "2      ...   0.0   0.0   0.0   0.0   0.0   0.0   0.0   1.0   0.0   0.0  \n",
       "3      ...   1.0   0.0   0.0   0.0   0.0   0.0   0.0   0.0   0.0   0.0  \n",
       "4      ...   0.0   0.0   0.0   0.0   0.0   0.0   0.0   0.0   0.0   0.0  \n",
       "...    ...   ...   ...   ...   ...   ...   ...   ...   ...   ...   ...  \n",
       "91792  ...   0.0   0.0   0.0   0.0   0.0   0.0   0.0   0.0   0.0   0.0  \n",
       "91793  ...   4.0   4.0   0.0   0.0   4.0   0.0   0.0   0.0   0.0   0.0  \n",
       "91794  ...   1.0   0.0   0.0   0.0   0.0   0.0   0.0   0.0   0.0   0.0  \n",
       "91795  ...   0.0   0.0   0.0   0.0   0.0   0.0   0.0   0.0   0.0   0.0  \n",
       "91796  ...   0.0   0.0   0.0   0.0   0.0   0.0   0.0   0.0   0.0   0.0  \n",
       "\n",
       "[91797 rows x 2925 columns]"
      ]
     },
     "execution_count": 24,
     "metadata": {},
     "output_type": "execute_result"
    }
   ],
   "source": [
    "X_train_imp_over_under_poly"
   ]
  },
  {
   "cell_type": "code",
   "execution_count": 25,
   "id": "16abfef6",
   "metadata": {},
   "outputs": [],
   "source": [
    "# Skaler\n",
    "from sklearn.preprocessing import MinMaxScaler"
   ]
  },
  {
   "cell_type": "code",
   "execution_count": 26,
   "id": "7af4ce5f",
   "metadata": {},
   "outputs": [],
   "source": [
    "scaler = MinMaxScaler()\n",
    "\n",
    "# original\n",
    "scaled_data_orig = scaler.fit_transform(X_train_imp_poly_orig)\n",
    "X_train_imp_orig_poly_std = pd.DataFrame(data=scaled_data_orig)"
   ]
  },
  {
   "cell_type": "code",
   "execution_count": 27,
   "id": "adf7461c",
   "metadata": {},
   "outputs": [],
   "source": [
    "# over/under sampled\n",
    "scaled_data = scaler.transform(X_train_imp_over_under_poly)\n",
    "X_train_imp_over_under_poly_std = pd.DataFrame(data=scaled_data)"
   ]
  },
  {
   "cell_type": "code",
   "execution_count": 28,
   "id": "808742ab",
   "metadata": {},
   "outputs": [],
   "source": [
    "# test data\n",
    "X_test_scaled_data = scaler.transform(X_test_imp_poly)\n",
    "X_test_imp_poly_std = pd.DataFrame(data=X_test_scaled_data)"
   ]
  },
  {
   "cell_type": "code",
   "execution_count": 29,
   "id": "d649cca6",
   "metadata": {},
   "outputs": [],
   "source": [
    "# Feature selection\n",
    "from sklearn.feature_selection import SelectKBest\n",
    "from sklearn.feature_selection import chi2, f_classif, mutual_info_classif"
   ]
  },
  {
   "cell_type": "code",
   "execution_count": 30,
   "id": "39c60732",
   "metadata": {},
   "outputs": [],
   "source": [
    "#methods prøvd = [chi2, f_classif, mutual_info_classif]. chi2 var mulig å gjennomføre.\n",
    "\n",
    "k = 100\n",
    "\n",
    "selector_class = SelectKBest(chi2, k=k)\n",
    "selector_class.fit(X_train_imp_over_under_poly_std, y_train_over_under)\n",
    "# Get columns for new dataframe\n",
    "cols = selector_class.get_support(indices=True)\n",
    "\n",
    "# original\n",
    "X_train_imp_orig_poly_std_best = X_train_imp_orig_poly_std.iloc[:,cols]\n",
    "\n",
    "# over/under sampled\n",
    "X_train_imp_over_under_poly_std_best = X_train_imp_over_under_poly_std.iloc[:,cols]\n",
    "\n",
    "# Test set\n",
    "X_test_imp_poly_best = X_test_imp_poly_std.iloc[:,cols]"
   ]
  },
  {
   "cell_type": "code",
   "execution_count": 31,
   "id": "a4cdd3d5",
   "metadata": {},
   "outputs": [
    {
     "data": {
      "text/plain": [
       "0"
      ]
     },
     "execution_count": 31,
     "metadata": {},
     "output_type": "execute_result"
    }
   ],
   "source": [
    "np.count_nonzero(np.isnan(X_test_imp_poly_best))"
   ]
  },
  {
   "cell_type": "markdown",
   "id": "6f0e4e48",
   "metadata": {},
   "source": [
    "# TESTING"
   ]
  },
  {
   "cell_type": "code",
   "execution_count": 32,
   "id": "1ed3d34b",
   "metadata": {},
   "outputs": [],
   "source": [
    "# Over/under sampled\n",
    "X_train_sampled = X_train_imp_over_under_poly_std_best\n",
    "y_train_sampled = y_train_over_under\n",
    "\n",
    "# Original\n",
    "X_train_orig = X_train_imp_orig_poly_std_best\n",
    "y_train_orig = y_train\n",
    "\n",
    "X_test = X_test_imp_poly_best  # Dev sett\n",
    "y_test = y_test  # Dev sett"
   ]
  },
  {
   "cell_type": "code",
   "execution_count": 33,
   "id": "d652dc41",
   "metadata": {},
   "outputs": [],
   "source": [
    "from sklearn import metrics # compute accuracy\n",
    "from sklearn.metrics import accuracy_score"
   ]
  },
  {
   "cell_type": "code",
   "execution_count": 34,
   "id": "c7cb1c73",
   "metadata": {},
   "outputs": [],
   "source": [
    "from sklearn.ensemble import RandomForestClassifier"
   ]
  },
  {
   "cell_type": "code",
   "execution_count": 35,
   "id": "37e4b229",
   "metadata": {},
   "outputs": [
    {
     "name": "stdout",
     "output_type": "stream",
     "text": [
      "Depth:  10\n",
      "k:  100\n",
      "Train accuracy:  0.39642666666666665\n",
      "Test accuracy:  0.35792\n"
     ]
    }
   ],
   "source": [
    "#Random Forest Classifier - Limited features\n",
    "#depth = [5 -> 30]\n",
    "for i in [10]:\n",
    "    rf_clf = RandomForestClassifier(random_state=42, max_depth=i)\n",
    "    rf_clf.fit(X_train_sampled, y_train_sampled)\n",
    "\n",
    "    rf_clf_y_train_pred = rf_clf.predict(X_train_orig) #predict on original train set\n",
    "    rf_clf_y_test_pred = rf_clf.predict(X_test) # predict on test set\n",
    "\n",
    "    print(\"Depth: \", i)\n",
    "    print(\"k: \", k)\n",
    "    print(\"Train accuracy: \", metrics.accuracy_score(y_train_orig, rf_clf_y_train_pred))\n",
    "    print(\"Test accuracy: \", metrics.accuracy_score(y_test, rf_clf_y_test_pred))\n",
    "\n",
    "# Chi2\n",
    "#Depth:  10\n",
    "#k:  100\n",
    "#Train accuracy:  0.3956088888888889\n",
    "#Test accuracy:  0.3589333333333333"
   ]
  },
  {
   "cell_type": "markdown",
   "id": "290ba2fe",
   "metadata": {},
   "source": [
    "#### Neural network. Oppnådd .35 på devsett. Ikke nok ram til ensemble.. Prøve tensorflow i stedet?"
   ]
  },
  {
   "cell_type": "markdown",
   "id": "19bca08e",
   "metadata": {},
   "source": [
    "# LOGREG"
   ]
  },
  {
   "cell_type": "code",
   "execution_count": 36,
   "id": "f3051342",
   "metadata": {},
   "outputs": [],
   "source": [
    "from sklearn.linear_model import LogisticRegression # Logistic regression"
   ]
  },
  {
   "cell_type": "code",
   "execution_count": 37,
   "id": "abe92a72",
   "metadata": {},
   "outputs": [],
   "source": [
    "?LogisticRegression"
   ]
  },
  {
   "cell_type": "code",
   "execution_count": 38,
   "id": "412226a9",
   "metadata": {},
   "outputs": [
    {
     "name": "stdout",
     "output_type": "stream",
     "text": [
      "Train accuracy:  0.3436622222222222\n",
      "Test accuracy:  0.34341333333333335\n"
     ]
    }
   ],
   "source": [
    "#Logistic regression\n",
    "lr = LogisticRegression(max_iter=5000)\n",
    "lr.fit(X_train_sampled,y_train_sampled)\n",
    "\n",
    "lr_y_train_pred = lr.predict(X_train_orig) #predict on train set\n",
    "lr_y_test_pred = lr.predict(X_test) # predict on test set\n",
    "\n",
    "print(\"Train accuracy: \", metrics.accuracy_score(y_train_orig, lr_y_train_pred))\n",
    "print(\"Test accuracy: \", metrics.accuracy_score(y_test, lr_y_test_pred))\n",
    "\n",
    "# Train accuracy:  0.34298666666666666\n",
    "# Test accuracy:  0.3428"
   ]
  },
  {
   "cell_type": "markdown",
   "id": "bad27ec4",
   "metadata": {},
   "source": [
    "# GBC"
   ]
  },
  {
   "cell_type": "code",
   "execution_count": 39,
   "id": "e6d1cb2a",
   "metadata": {},
   "outputs": [],
   "source": [
    "from sklearn.ensemble import GradientBoostingClassifier"
   ]
  },
  {
   "cell_type": "code",
   "execution_count": 40,
   "id": "66c7dc6f",
   "metadata": {},
   "outputs": [
    {
     "name": "stdout",
     "output_type": "stream",
     "text": [
      "Train accuracy:  0.37355555555555553\n",
      "Test accuracy:  0.3576533333333333\n"
     ]
    }
   ],
   "source": [
    "gb = GradientBoostingClassifier(random_state=42, warm_start=True)\n",
    "#gb.set_params(n_estimators=n, warm_start=True)\n",
    "gb.fit(X_train_sampled,y_train_sampled)\n",
    "\n",
    "gb_y_train_pred = gb.predict(X_train_orig) #predict on train set\n",
    "gb_y_test_pred = gb.predict(X_test) # predict on test set\n",
    "\n",
    "print(\"Train accuracy: \", metrics.accuracy_score(y_train_orig, gb_y_train_pred))\n",
    "print(\"Test accuracy: \", metrics.accuracy_score(y_test, gb_y_test_pred))\n",
    "\n",
    "#Train accuracy:  0.3735466666666667\n",
    "#Test accuracy:  0.35714666666666667"
   ]
  },
  {
   "cell_type": "code",
   "execution_count": 41,
   "id": "f2c2cedf",
   "metadata": {},
   "outputs": [],
   "source": [
    "from sklearn.ensemble import VotingClassifier"
   ]
  },
  {
   "cell_type": "code",
   "execution_count": 46,
   "id": "09d364d0",
   "metadata": {},
   "outputs": [],
   "source": [
    "from sklearn.neural_network import MLPClassifier # Neural Network"
   ]
  },
  {
   "cell_type": "code",
   "execution_count": 50,
   "id": "83be6929",
   "metadata": {},
   "outputs": [
    {
     "name": "stdout",
     "output_type": "stream",
     "text": [
      "Train accuracy:  0.39288\n",
      "Test accuracy:  0.35842666666666667\n"
     ]
    }
   ],
   "source": [
    "n_models = 10\n",
    "seed=42\n",
    "\n",
    "models = [(f\"rf_clf{i}\", RandomForestClassifier(random_state=seed+i, max_depth=10, n_jobs=-1)) for i in range(n_models)]\n",
    "models.append((\"gb\", GradientBoostingClassifier(random_state=seed, warm_start=True)))\n",
    "models.append((\"lr\", LogisticRegression(random_state=seed, max_iter=5000, n_jobs=-1)))\n",
    "models.append((\"nn\", MLPClassifier(solver=\"lbfgs\", alpha=1e-5, hidden_layer_sizes=(30,20,), random_state=seed, max_iter=10000)))\n",
    "ensemble = VotingClassifier(models)\n",
    "ensemble.fit(X_train_sampled, y_train_sampled)\n",
    "\n",
    "ensemble_y_train_pred = ensemble.predict(X_train_orig) #predict on train set\n",
    "ensemble_y_test_pred = ensemble.predict(X_test) # predict on test set\n",
    "\n",
    "print(\"Train accuracy: \", metrics.accuracy_score(y_train_orig, ensemble_y_train_pred))\n",
    "print(\"Test accuracy: \", metrics.accuracy_score(y_test, ensemble_y_test_pred))\n",
    "\n",
    "# with RF x 10, GBC x 1, LRC x 1\n",
    "# Train accuracy:  0.39413333333333334\n",
    "# Test accuracy:  0.35877333333333333\n",
    "\n",
    "# with RF x 10, GBC x 1, LRC x 2\n",
    "# Train accuracy:  0.39353777777777776\n",
    "# Test accuracy:  0.35696\n",
    "\n",
    "# with RF x 10, GBC x 1, LRC x 1, NN x 1\n",
    "#Train accuracy:  0.39308444444444446\n",
    "#Test accuracy:  0.3592533333333333"
   ]
  },
  {
   "cell_type": "markdown",
   "id": "b02f456b",
   "metadata": {},
   "source": [
    "### Cross validation"
   ]
  },
  {
   "cell_type": "code",
   "execution_count": 48,
   "id": "22334e0e",
   "metadata": {},
   "outputs": [],
   "source": [
    "from sklearn.model_selection import cross_val_score"
   ]
  },
  {
   "cell_type": "code",
   "execution_count": 49,
   "id": "81448175",
   "metadata": {},
   "outputs": [
    {
     "name": "stderr",
     "output_type": "stream",
     "text": [
      "C:\\Users\\torstein\\anaconda3\\lib\\site-packages\\sklearn\\neural_network\\_multilayer_perceptron.py:500: ConvergenceWarning: lbfgs failed to converge (status=1):\n",
      "STOP: TOTAL NO. of ITERATIONS REACHED LIMIT.\n",
      "\n",
      "Increase the number of iterations (max_iter) or scale the data as shown in:\n",
      "    https://scikit-learn.org/stable/modules/preprocessing.html\n",
      "  self.n_iter_ = _check_optimize_result(\"lbfgs\", opt_res, self.max_iter)\n"
     ]
    },
    {
     "data": {
      "text/plain": [
       "array([0.35898667, 0.35987556])"
      ]
     },
     "execution_count": 49,
     "metadata": {},
     "output_type": "execute_result"
    }
   ],
   "source": [
    "scores_ensemble = cross_val_score(ensemble, X_train_orig, y_train_orig, cv=2)\n",
    "scores_ensemble"
   ]
  },
  {
   "cell_type": "markdown",
   "id": "4cf79a01",
   "metadata": {},
   "source": [
    "# KNN. Ikke nok minne.."
   ]
  },
  {
   "cell_type": "markdown",
   "id": "8ef062c0",
   "metadata": {},
   "source": [
    "# Send resultat"
   ]
  },
  {
   "cell_type": "code",
   "execution_count": null,
   "id": "43d379b2",
   "metadata": {},
   "outputs": [],
   "source": [
    "final_test_cols = final_test.drop([\"id\"], axis=1).columns\n",
    "\n",
    "final_test_imp = imp.transform(final_test.drop([\"id\"], axis=1))\n",
    "final_test_imp = pd.DataFrame(data=final_test_imp, columns=final_test_cols)\n",
    "\n",
    "polyfeatures_final_test = polys.transform(final_test_imp)\n",
    "final_test_imp_poly = pd.DataFrame(data=polyfeatures_final_test)"
   ]
  },
  {
   "cell_type": "code",
   "execution_count": null,
   "id": "852085b3",
   "metadata": {},
   "outputs": [],
   "source": [
    "final_test_scaled_data = scaler.transform(final_test_imp_poly)\n",
    "final_test_imp_poly_std = pd.DataFrame(data=final_test_scaled_data)\n",
    "\n",
    "final_test_imp_poly_std_best = final_test_imp_poly_std.iloc[:,cols]\n",
    "\n",
    "target = ensemble.predict(final_test_imp_poly_std_best)\n",
    "submission = pd.DataFrame({'id': final_test['id'], 'target': target})\n",
    "submission.head()"
   ]
  },
  {
   "cell_type": "code",
   "execution_count": null,
   "id": "4fc7dde6",
   "metadata": {},
   "outputs": [],
   "source": [
    "submission.to_csv('final_ensemble_submission.csv', index=False)"
   ]
  }
 ],
 "metadata": {
  "kernelspec": {
   "display_name": "Python 3",
   "language": "python",
   "name": "python3"
  },
  "language_info": {
   "codemirror_mode": {
    "name": "ipython",
    "version": 3
   },
   "file_extension": ".py",
   "mimetype": "text/x-python",
   "name": "python",
   "nbconvert_exporter": "python",
   "pygments_lexer": "ipython3",
   "version": "3.8.3"
  }
 },
 "nbformat": 4,
 "nbformat_minor": 5
}
