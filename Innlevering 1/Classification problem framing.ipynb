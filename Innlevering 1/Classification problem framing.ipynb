{
 "cells": [
  {
   "cell_type": "code",
   "execution_count": 1,
   "id": "68a20211",
   "metadata": {},
   "outputs": [
    {
     "name": "stdout",
     "output_type": "stream",
     "text": [
      "done\n"
     ]
    }
   ],
   "source": [
    "%matplotlib inline\n",
    "import numpy as np, pandas as pd, seaborn as sns, matplotlib.pyplot as plt\n",
    "from pathlib import Path\n",
    "from sklearn import datasets\n",
    "plt.style.use(\"ggplot\")\n",
    "print(\"done\")"
   ]
  },
  {
   "cell_type": "markdown",
   "id": "f5544d9c",
   "metadata": {},
   "source": [
    "Plan:\n",
    "1) Fikse verdier i datasettet\n",
    "2) Fjern variabler med varians over 50\n",
    "3) Klipp ut eksempler med høye topper.\n",
    "4) Bruk feature selection CHI2 og F_test med forskjellige antall variabler."
   ]
  },
  {
   "cell_type": "code",
   "execution_count": 2,
   "id": "f0a9a1a0",
   "metadata": {},
   "outputs": [
    {
     "name": "stdout",
     "output_type": "stream",
     "text": [
      "done\n"
     ]
    }
   ],
   "source": [
    "df = pd.read_csv('train.csv')\n",
    "final_test = pd.read_csv('test.csv')\n",
    "sampleSubmission = pd.read_csv('sample_submission.csv')\n",
    "print(\"done\")"
   ]
  },
  {
   "cell_type": "code",
   "execution_count": 3,
   "id": "4363628f",
   "metadata": {
    "scrolled": true
   },
   "outputs": [
    {
     "data": {
      "text/html": [
       "<div>\n",
       "<style scoped>\n",
       "    .dataframe tbody tr th:only-of-type {\n",
       "        vertical-align: middle;\n",
       "    }\n",
       "\n",
       "    .dataframe tbody tr th {\n",
       "        vertical-align: top;\n",
       "    }\n",
       "\n",
       "    .dataframe thead th {\n",
       "        text-align: right;\n",
       "    }\n",
       "</style>\n",
       "<table border=\"1\" class=\"dataframe\">\n",
       "  <thead>\n",
       "    <tr style=\"text-align: right;\">\n",
       "      <th></th>\n",
       "      <th>id</th>\n",
       "      <th>f_0</th>\n",
       "      <th>f_1</th>\n",
       "      <th>f_2</th>\n",
       "      <th>f_3</th>\n",
       "      <th>f_4</th>\n",
       "      <th>f_5</th>\n",
       "      <th>f_6</th>\n",
       "      <th>f_7</th>\n",
       "      <th>f_8</th>\n",
       "      <th>...</th>\n",
       "      <th>f_66</th>\n",
       "      <th>f_67</th>\n",
       "      <th>f_68</th>\n",
       "      <th>f_69</th>\n",
       "      <th>f_70</th>\n",
       "      <th>f_71</th>\n",
       "      <th>f_72</th>\n",
       "      <th>f_73</th>\n",
       "      <th>f_74</th>\n",
       "      <th>target</th>\n",
       "    </tr>\n",
       "  </thead>\n",
       "  <tbody>\n",
       "    <tr>\n",
       "      <th>0</th>\n",
       "      <td>161363</td>\n",
       "      <td>1.0</td>\n",
       "      <td>0.0</td>\n",
       "      <td>0.0</td>\n",
       "      <td>0.0</td>\n",
       "      <td>1.0</td>\n",
       "      <td>0.0</td>\n",
       "      <td>0.0</td>\n",
       "      <td>1.0</td>\n",
       "      <td>0.0</td>\n",
       "      <td>...</td>\n",
       "      <td>0.0</td>\n",
       "      <td>8.0</td>\n",
       "      <td>0.0</td>\n",
       "      <td>0.0</td>\n",
       "      <td>0.0</td>\n",
       "      <td>NaN</td>\n",
       "      <td>NaN</td>\n",
       "      <td>0.0</td>\n",
       "      <td>0.0</td>\n",
       "      <td>6</td>\n",
       "    </tr>\n",
       "    <tr>\n",
       "      <th>1</th>\n",
       "      <td>78028</td>\n",
       "      <td>16.0</td>\n",
       "      <td>0.0</td>\n",
       "      <td>1.0</td>\n",
       "      <td>1.0</td>\n",
       "      <td>6.0</td>\n",
       "      <td>2.0</td>\n",
       "      <td>2.0</td>\n",
       "      <td>2.0</td>\n",
       "      <td>14.0</td>\n",
       "      <td>...</td>\n",
       "      <td>0.0</td>\n",
       "      <td>41.0</td>\n",
       "      <td>3.0</td>\n",
       "      <td>0.0</td>\n",
       "      <td>0.0</td>\n",
       "      <td>0.0</td>\n",
       "      <td>2.0</td>\n",
       "      <td>1.0</td>\n",
       "      <td>1.0</td>\n",
       "      <td>7</td>\n",
       "    </tr>\n",
       "    <tr>\n",
       "      <th>2</th>\n",
       "      <td>35324</td>\n",
       "      <td>0.0</td>\n",
       "      <td>3.0</td>\n",
       "      <td>0.0</td>\n",
       "      <td>1.0</td>\n",
       "      <td>1.0</td>\n",
       "      <td>0.0</td>\n",
       "      <td>0.0</td>\n",
       "      <td>0.0</td>\n",
       "      <td>2.0</td>\n",
       "      <td>...</td>\n",
       "      <td>0.0</td>\n",
       "      <td>0.0</td>\n",
       "      <td>0.0</td>\n",
       "      <td>1.0</td>\n",
       "      <td>1.0</td>\n",
       "      <td>0.0</td>\n",
       "      <td>1.0</td>\n",
       "      <td>0.0</td>\n",
       "      <td>0.0</td>\n",
       "      <td>5</td>\n",
       "    </tr>\n",
       "    <tr>\n",
       "      <th>3</th>\n",
       "      <td>67966</td>\n",
       "      <td>0.0</td>\n",
       "      <td>0.0</td>\n",
       "      <td>0.0</td>\n",
       "      <td>0.0</td>\n",
       "      <td>0.0</td>\n",
       "      <td>1.0</td>\n",
       "      <td>0.0</td>\n",
       "      <td>0.0</td>\n",
       "      <td>0.0</td>\n",
       "      <td>...</td>\n",
       "      <td>0.0</td>\n",
       "      <td>0.0</td>\n",
       "      <td>0.0</td>\n",
       "      <td>2.0</td>\n",
       "      <td>0.0</td>\n",
       "      <td>0.0</td>\n",
       "      <td>0.0</td>\n",
       "      <td>0.0</td>\n",
       "      <td>0.0</td>\n",
       "      <td>1</td>\n",
       "    </tr>\n",
       "    <tr>\n",
       "      <th>4</th>\n",
       "      <td>110279</td>\n",
       "      <td>3.0</td>\n",
       "      <td>0.0</td>\n",
       "      <td>0.0</td>\n",
       "      <td>2.0</td>\n",
       "      <td>0.0</td>\n",
       "      <td>0.0</td>\n",
       "      <td>0.0</td>\n",
       "      <td>2.0</td>\n",
       "      <td>NaN</td>\n",
       "      <td>...</td>\n",
       "      <td>0.0</td>\n",
       "      <td>0.0</td>\n",
       "      <td>1.0</td>\n",
       "      <td>5.0</td>\n",
       "      <td>4.0</td>\n",
       "      <td>0.0</td>\n",
       "      <td>0.0</td>\n",
       "      <td>0.0</td>\n",
       "      <td>1.0</td>\n",
       "      <td>5</td>\n",
       "    </tr>\n",
       "  </tbody>\n",
       "</table>\n",
       "<p>5 rows × 77 columns</p>\n",
       "</div>"
      ],
      "text/plain": [
       "       id   f_0  f_1  f_2  f_3  f_4  f_5  f_6  f_7   f_8  ...  f_66  f_67  \\\n",
       "0  161363   1.0  0.0  0.0  0.0  1.0  0.0  0.0  1.0   0.0  ...   0.0   8.0   \n",
       "1   78028  16.0  0.0  1.0  1.0  6.0  2.0  2.0  2.0  14.0  ...   0.0  41.0   \n",
       "2   35324   0.0  3.0  0.0  1.0  1.0  0.0  0.0  0.0   2.0  ...   0.0   0.0   \n",
       "3   67966   0.0  0.0  0.0  0.0  0.0  1.0  0.0  0.0   0.0  ...   0.0   0.0   \n",
       "4  110279   3.0  0.0  0.0  2.0  0.0  0.0  0.0  2.0   NaN  ...   0.0   0.0   \n",
       "\n",
       "   f_68  f_69  f_70  f_71  f_72  f_73  f_74  target  \n",
       "0   0.0   0.0   0.0   NaN   NaN   0.0   0.0       6  \n",
       "1   3.0   0.0   0.0   0.0   2.0   1.0   1.0       7  \n",
       "2   0.0   1.0   1.0   0.0   1.0   0.0   0.0       5  \n",
       "3   0.0   2.0   0.0   0.0   0.0   0.0   0.0       1  \n",
       "4   1.0   5.0   4.0   0.0   0.0   0.0   1.0       5  \n",
       "\n",
       "[5 rows x 77 columns]"
      ]
     },
     "execution_count": 3,
     "metadata": {},
     "output_type": "execute_result"
    }
   ],
   "source": [
    "df.head()"
   ]
  },
  {
   "cell_type": "code",
   "execution_count": 4,
   "id": "404044a6",
   "metadata": {},
   "outputs": [],
   "source": [
    "X = df.drop([\"target\"], axis=1)\n",
    "y = df.target"
   ]
  },
  {
   "cell_type": "code",
   "execution_count": 5,
   "id": "019db8b5",
   "metadata": {},
   "outputs": [],
   "source": [
    "from sklearn.model_selection import train_test_split\n",
    "X_train, X_test, y_train, y_test = train_test_split(X, y, random_state=42)"
   ]
  },
  {
   "cell_type": "markdown",
   "id": "fefd2939",
   "metadata": {},
   "source": [
    "You can handle missing data/ NaN with imputation and interpolation, what i just found is interpolation is a type of estimation, a method of constructing new data points within the range of a discrete set of known data points while imputation is replacing the missing data of the mean of the column."
   ]
  },
  {
   "cell_type": "code",
   "execution_count": 6,
   "id": "5839be3c",
   "metadata": {},
   "outputs": [],
   "source": [
    "from sklearn.ensemble import VotingClassifier\n",
    "\n",
    "from sklearn.ensemble import RandomForestClassifier, GradientBoostingClassifier\n",
    "from sklearn.svm import SVC\n",
    "from sklearn.naive_bayes import GaussianNB\n",
    "\n",
    "rf = RandomForestClassifier(random_state=42, n_jobs=-1)\n",
    "gb = GradientBoostingClassifier(random_state=42)\n",
    "svc = SVC(random_state=42)\n",
    "gnb = GaussianNB()\n",
    "\n",
    "models = [('rf', rf), \n",
    "          ('gnb', gnb)]\n",
    "\n",
    "ensemble = VotingClassifier(models)"
   ]
  },
  {
   "cell_type": "markdown",
   "id": "f7b5de60",
   "metadata": {},
   "source": [
    "('gb', gb),\n",
    "('svc', svc),"
   ]
  },
  {
   "cell_type": "code",
   "execution_count": 7,
   "id": "c32cb835",
   "metadata": {},
   "outputs": [],
   "source": [
    "from sklearn.impute import SimpleImputer\n",
    "from sklearn.preprocessing import MinMaxScaler\n",
    "from sklearn.pipeline import make_pipeline"
   ]
  },
  {
   "cell_type": "code",
   "execution_count": 8,
   "id": "3eb8a1f9",
   "metadata": {},
   "outputs": [
    {
     "data": {
      "text/plain": [
       "Pipeline(steps=[('simpleimputer', SimpleImputer()),\n",
       "                ('minmaxscaler', MinMaxScaler()),\n",
       "                ('votingclassifier',\n",
       "                 VotingClassifier(estimators=[('rf',\n",
       "                                               RandomForestClassifier(n_jobs=-1,\n",
       "                                                                      random_state=42)),\n",
       "                                              ('gnb', GaussianNB())]))])"
      ]
     },
     "execution_count": 8,
     "metadata": {},
     "output_type": "execute_result"
    }
   ],
   "source": [
    "pipeline = make_pipeline(SimpleImputer(), \n",
    "                         MinMaxScaler(), \n",
    "                         ensemble)\n",
    "pipeline"
   ]
  },
  {
   "cell_type": "code",
   "execution_count": 9,
   "id": "e83f361f",
   "metadata": {},
   "outputs": [
    {
     "data": {
      "text/plain": [
       "Pipeline(steps=[('simpleimputer', SimpleImputer()),\n",
       "                ('minmaxscaler', MinMaxScaler()),\n",
       "                ('votingclassifier',\n",
       "                 VotingClassifier(estimators=[('rf',\n",
       "                                               RandomForestClassifier(n_jobs=-1,\n",
       "                                                                      random_state=42)),\n",
       "                                              ('gnb', GaussianNB())]))])"
      ]
     },
     "execution_count": 9,
     "metadata": {},
     "output_type": "execute_result"
    }
   ],
   "source": [
    "pipeline.fit(X_train, y_train)"
   ]
  },
  {
   "cell_type": "code",
   "execution_count": 10,
   "id": "0a6aaa85",
   "metadata": {},
   "outputs": [],
   "source": [
    "from sklearn.model_selection import cross_val_score"
   ]
  },
  {
   "cell_type": "code",
   "execution_count": 11,
   "id": "b0f5ade9",
   "metadata": {},
   "outputs": [
    {
     "data": {
      "text/plain": [
       "array([0.16632   , 0.16973333, 0.16605333])"
      ]
     },
     "execution_count": 11,
     "metadata": {},
     "output_type": "execute_result"
    }
   ],
   "source": [
    "cross_val_score(pipeline, X_train, y_train, cv=3, scoring='accuracy')"
   ]
  },
  {
   "cell_type": "code",
   "execution_count": 12,
   "id": "8cfb41c1",
   "metadata": {},
   "outputs": [],
   "source": [
    "from sklearn.preprocessing import StandardScaler"
   ]
  },
  {
   "cell_type": "code",
   "execution_count": 15,
   "id": "e74f8647",
   "metadata": {},
   "outputs": [
    {
     "name": "stdout",
     "output_type": "stream",
     "text": [
      "Cross val scores for MinMaxScaler(): [0.16632    0.16973333 0.16605333]\n",
      "Mean: 0.1673688888888889\n",
      "\n",
      "Cross val scores for StandardScaler(): [0.16626667 0.16968    0.16602667]\n",
      "Mean: 0.16732444444444447\n",
      "\n"
     ]
    }
   ],
   "source": [
    "for scaler in [MinMaxScaler(), StandardScaler()]:\n",
    "    pipeline = make_pipeline(SimpleImputer(), scaler, ensemble)\n",
    "    \n",
    "    scores = cross_val_score(pipeline, X_train, y_train, cv=3, scoring='accuracy')\n",
    "    print(f\"Cross val scores for {scaler}: {scores}\")\n",
    "    print(f\"Mean: {np.mean(scores)}\\n\")"
   ]
  },
  {
   "cell_type": "code",
   "execution_count": null,
   "id": "2f35bc63",
   "metadata": {},
   "outputs": [],
   "source": [
    "submission = pd.DataFrame({'id': test['id'], 'target': target})\n",
    "submission.head()"
   ]
  },
  {
   "cell_type": "code",
   "execution_count": null,
   "id": "07d1e203",
   "metadata": {},
   "outputs": [],
   "source": [
    "submission.to_csv('pipeline_simple.csv', index=False)"
   ]
  },
  {
   "cell_type": "code",
   "execution_count": null,
   "id": "d162bbfc",
   "metadata": {},
   "outputs": [],
   "source": [
    "from sklearn.feature_selection import mutual_info_classif\n",
    "# determine the mutual information\n",
    "mutual_info1 = mutual_info_classif(X_train_initial.fillna(0), y_train_initial) # trenger ikke fillna lenger\n",
    "mutual_info1"
   ]
  },
  {
   "cell_type": "markdown",
   "id": "65d29539",
   "metadata": {},
   "source": [
    "Uten interpolering (fillna=0):\n",
    "f_18    0.042137\n",
    "f_37    0.041022\n",
    "f_43    0.037857\n",
    "f_40    0.034660\n",
    "f_12    0.034154\n",
    "f_72    0.031311\n",
    "f_14    0.031282\n",
    "f_53    0.031225\n",
    "f_3     0.030770\n",
    "f_2     0.029875\n",
    "f_65    0.028901\n",
    "f_28    0.028273\n",
    "f_31    0.028162\n",
    "f_1     0.023683\n",
    "f_8     0.022663\n",
    "f_56    0.021963\n",
    "f_16    0.021600\n",
    "f_50    0.021356\n",
    "f_21    0.021214\n",
    "f_44    0.019598\n",
    "f_45    0.017552\n",
    "f_20    0.015884\n",
    "f_13    0.015006\n",
    "f_23    0.014988\n",
    "f_39    0.014931\n",
    "f_70    0.014799\n",
    "f_7     0.014777\n",
    "f_4     0.014397\n",
    "f_9     0.014185\n",
    "f_48    0.013002\n",
    "f_35    0.012888\n",
    "f_52    0.012756\n",
    "f_19    0.012713\n",
    "f_55    0.012549\n",
    "f_67    0.012505\n",
    "f_38    0.012472\n",
    "f_46    0.012380\n",
    "f_24    0.012324\n",
    "f_29    0.012053\n",
    "f_66    0.011818\n",
    "f_69    0.011174\n",
    "f_25    0.011089\n",
    "f_60    0.010973\n",
    "f_11    0.010766\n",
    "f_54    0.010556\n",
    "f_51    0.010498\n",
    "f_73    0.010435\n",
    "f_61    0.010419\n",
    "f_30    0.010275\n",
    "f_63    0.009903\n",
    "f_15    0.009605\n",
    "f_0     0.008954\n",
    "f_62    0.008832\n",
    "f_58    0.008633\n",
    "f_41    0.008576\n",
    "f_5     0.007997\n",
    "f_22    0.007865\n",
    "f_57    0.006573\n",
    "f_59    0.006510\n",
    "f_64    0.006493\n",
    "f_10    0.006238\n",
    "f_32    0.006193\n",
    "f_49    0.006045\n",
    "f_71    0.005949\n",
    "f_68    0.005535\n",
    "f_47    0.005516\n",
    "f_34    0.005200\n",
    "f_26    0.003571\n",
    "f_27    0.003545\n",
    "f_42    0.002903\n",
    "f_33    0.002703\n",
    "f_17    0.002457\n",
    "f_74    0.000713\n",
    "f_36    0.000000\n",
    "f_6     0.000000\n",
    "id      0.000000\n",
    "dtype: float64"
   ]
  },
  {
   "cell_type": "markdown",
   "id": "5bf6f00e",
   "metadata": {},
   "source": [
    "MED interpolering\n",
    "f_12    0.042418\n",
    "f_43    0.039170\n",
    "f_37    0.038279\n",
    "f_18    0.037486\n",
    "f_3     0.033675\n",
    "f_40    0.032602\n",
    "f_53    0.030294\n",
    "f_65    0.029889\n",
    "f_28    0.029495\n",
    "f_72    0.029124\n",
    "f_2     0.028865\n",
    "f_14    0.028207\n",
    "f_31    0.028141\n",
    "f_1     0.024191\n",
    "f_16    0.024024\n",
    "f_44    0.022703\n",
    "f_56    0.022226\n",
    "f_50    0.021610\n",
    "f_8     0.020229\n",
    "f_21    0.019420\n",
    "f_9     0.019318\n",
    "f_20    0.017315\n",
    "f_67    0.016867\n",
    "f_23    0.016712\n",
    "f_35    0.016097\n",
    "f_48    0.015825\n",
    "f_38    0.015787\n",
    "f_46    0.013802\n",
    "f_45    0.013741\n",
    "f_52    0.013390\n",
    "f_60    0.013352\n",
    "f_41    0.013239\n",
    "f_4     0.013227\n",
    "f_24    0.012848\n",
    "f_25    0.012364\n",
    "f_70    0.012034\n",
    "f_69    0.011748\n",
    "f_59    0.011730\n",
    "f_62    0.011351\n",
    "f_13    0.011233\n",
    "f_66    0.011221\n",
    "f_7     0.011100\n",
    "f_55    0.011004\n",
    "f_19    0.010612\n",
    "f_29    0.010602\n",
    "f_51    0.010298\n",
    "f_39    0.010243\n",
    "f_30    0.009758\n",
    "f_15    0.009304\n",
    "f_63    0.009089\n",
    "f_32    0.008619\n",
    "f_58    0.008456\n",
    "f_54    0.007683\n",
    "f_0     0.007531\n",
    "f_49    0.007453\n",
    "f_61    0.007391\n",
    "f_73    0.007064\n",
    "f_22    0.006907\n",
    "f_68    0.006840\n",
    "f_5     0.006454\n",
    "f_27    0.006199\n",
    "f_10    0.005728\n",
    "f_64    0.005298\n",
    "f_26    0.005121\n",
    "f_33    0.005023\n",
    "f_42    0.004549\n",
    "f_57    0.004239\n",
    "f_34    0.004181\n",
    "f_17    0.004178\n",
    "f_71    0.003958\n",
    "f_47    0.003176\n",
    "f_11    0.002550\n",
    "f_74    0.002061\n",
    "f_6     0.001887\n",
    "f_36    0.001475\n",
    "id      0.000000\n",
    "dtype: float64"
   ]
  },
  {
   "cell_type": "code",
   "execution_count": null,
   "id": "61cc8952",
   "metadata": {},
   "outputs": [],
   "source": [
    "mutual_info1 = pd.Series(mutual_info1)\n",
    "mutual_info1.index = X_train_initial.columns\n",
    "mutual_info1.sort_values(ascending=False)"
   ]
  },
  {
   "cell_type": "code",
   "execution_count": null,
   "id": "1710a67f",
   "metadata": {},
   "outputs": [],
   "source": [
    "from sklearn.feature_selection import SelectKBest, chi2\n",
    "\n",
    "selector_class = SelectKBest(mutual_info_classif, k=47)\n",
    "selector_class.fit(X_train_initial.fillna(0), y_train_initial)\n",
    "\n",
    "# Get columns for new dataframe\n",
    "cols = selector_class.get_support(indices=True)\n",
    "features_selected = X_train_initial.iloc[:,cols]\n"
   ]
  },
  {
   "cell_type": "code",
   "execution_count": null,
   "id": "6abd238f",
   "metadata": {},
   "outputs": [],
   "source": [
    "features_selected.keys()"
   ]
  },
  {
   "cell_type": "code",
   "execution_count": null,
   "id": "92464f33",
   "metadata": {},
   "outputs": [],
   "source": [
    "X = df[['f_1', 'f_2', 'f_3', 'f_4', 'f_7', 'f_8', 'f_9', 'f_12', 'f_13', 'f_14',\n",
    "       'f_16', 'f_18', 'f_19', 'f_20', 'f_21', 'f_23', 'f_24', 'f_25', 'f_28',\n",
    "       'f_29', 'f_30', 'f_31', 'f_35', 'f_37', 'f_38', 'f_39', 'f_40', 'f_41',\n",
    "       'f_43', 'f_44', 'f_45', 'f_46', 'f_48', 'f_50', 'f_52', 'f_53', 'f_56',\n",
    "       'f_60', 'f_61', 'f_62', 'f_65', 'f_66', 'f_67', 'f_69', 'f_70', 'f_72',\n",
    "       'f_73']].fillna(0)\n",
    "y = df.target"
   ]
  },
  {
   "cell_type": "code",
   "execution_count": null,
   "id": "6d646ca0",
   "metadata": {},
   "outputs": [],
   "source": [
    "from sklearn.model_selection import train_test_split\n",
    "from sklearn import metrics\n",
    "X_train, X_test, y_train, y_test = train_test_split(X, y, test_size = 0.25, random_state=42)\n",
    "print(\"set is split\")"
   ]
  },
  {
   "cell_type": "code",
   "execution_count": null,
   "id": "eee4bb49",
   "metadata": {},
   "outputs": [],
   "source": [
    "# standardize\n",
    "from sklearn.preprocessing import StandardScaler\n",
    "\n",
    "std = StandardScaler()\n",
    "X_train_std = std.fit_transform(X_train)\n",
    "X_test_std = std.transform(X_test)"
   ]
  },
  {
   "cell_type": "code",
   "execution_count": null,
   "id": "60e91d21",
   "metadata": {},
   "outputs": [],
   "source": [
    "from sklearn.neighbors import KNeighborsClassifier\n",
    "k_range = range(5,45,10)\n",
    "scores = []\n",
    "\n",
    "for k in k_range:\n",
    "    knn = KNeighborsClassifier(n_neighbors = k)\n",
    "    knn.fit(X_train_std, y_train)\n",
    "    knn_y_test_pred = knn.predict(X_test_std)\n",
    "    scores.append(metrics.accuracy_score(y_test, knn_y_test_pred))\n",
    "\n",
    "plt.plot(k_range, scores)\n",
    "plt.xlabel(\"Value of k for KNN\")\n",
    "plt.ylabel(\"Testing accuracy\")"
   ]
  },
  {
   "cell_type": "code",
   "execution_count": null,
   "id": "19a9068f",
   "metadata": {},
   "outputs": [],
   "source": [
    "scores[-1]"
   ]
  },
  {
   "cell_type": "code",
   "execution_count": null,
   "id": "b4bd0467",
   "metadata": {},
   "outputs": [],
   "source": [
    "#Random Forest Classifier\n",
    "from sklearn.ensemble import RandomForestClassifier\n",
    "\n",
    "rf_clf = RandomForestClassifier(random_state=42)\n",
    "rf_clf.fit(X_train, y_train)\n",
    "\n",
    "rf_clf_y_train_pred = rf_clf.predict(X_train_std) #predict on train set\n",
    "rf_clf_y_test_pred = rf_clf.predict(X_test_std) # predict on test set\n",
    "\n",
    "print(\"Train accuracy: \", metrics.accuracy_score(y_train, rf_clf_y_train_pred))\n",
    "print(\"Test accuracy: \", metrics.accuracy_score(y_test, rf_clf_y_test_pred))"
   ]
  },
  {
   "cell_type": "code",
   "execution_count": null,
   "id": "0c07fa93",
   "metadata": {},
   "outputs": [],
   "source": [
    "df_new = df.interpolate(method ='linear', limit_direction ='forward')\n",
    "df_new = df_new.interpolate(method ='linear', limit_direction ='backward', limit = 1)"
   ]
  },
  {
   "cell_type": "code",
   "execution_count": null,
   "id": "904d860e",
   "metadata": {},
   "outputs": [],
   "source": [
    "df_new.head()"
   ]
  },
  {
   "cell_type": "code",
   "execution_count": null,
   "id": "9ec665f7",
   "metadata": {},
   "outputs": [],
   "source": [
    "# Variable discarded due to high variance > 50\n",
    "df_new_var = df_new.drop([\"id\", \"f_3\", \"f_15\", \"f_19\", \"f_25\", \"f_28\", \"f_32\", \"f_43\", \"f_46\", \"f_54\", \"f_55\", \"f_62\", \"f_67\", \"f_73\"], axis=1)"
   ]
  },
  {
   "cell_type": "code",
   "execution_count": null,
   "id": "00c3b4e6",
   "metadata": {},
   "outputs": [],
   "source": [
    "# Filter by variance. Remove all above 50.\n",
    "pd.set_option('display.max_rows', 500)\n",
    "df_new_var.var() > 50\n",
    "\n",
    "# variance is the expectation of the squared deviation of a random variable from its population mean or sample mean."
   ]
  },
  {
   "cell_type": "code",
   "execution_count": null,
   "id": "3de58d03",
   "metadata": {},
   "outputs": [],
   "source": [
    "df_new_var.shape"
   ]
  },
  {
   "cell_type": "code",
   "execution_count": null,
   "id": "1dc58377",
   "metadata": {},
   "outputs": [],
   "source": [
    "# Hvor mange målinger er på max.\n",
    "def num_of_max(df, key):\n",
    "    return (df[key] == max(df[key])).sum()\n",
    "\n",
    "def num_of_min(df, key):\n",
    "    return (df[key] == min(df[key])).sum()\n",
    "\n",
    "for i in df_new_var.keys():\n",
    "    print(i, \": Max:\", num_of_max(df_new_var, i), \" Min:\", num_of_min(df_new_var, i))\n",
    "    \n",
    "# Alle variabler har så få på max at vi antar det er feilmålinger."
   ]
  },
  {
   "cell_type": "code",
   "execution_count": null,
   "id": "16b48e62",
   "metadata": {},
   "outputs": [],
   "source": [
    "df_new_var_no_max = df_new_var"
   ]
  },
  {
   "cell_type": "code",
   "execution_count": null,
   "id": "03b56932",
   "metadata": {},
   "outputs": [],
   "source": [
    "for i in df_new_var_no_max.keys():\n",
    "    if i != \"target\":\n",
    "        if (df_new_var_no_max[i] == max(df_new_var_no_max[i])).sum() < 100:\n",
    "            df_new_var_no_max = df_new_var_no_max.drop(df_new_var_no_max[df_new_var_no_max[i]==df_new_var_no_max[i].max()].index.tolist())\n",
    "\n",
    "for i in df_new_var_no_max.keys():\n",
    "    print(i, \": Max:\", num_of_max(df_new_var_no_max, i), \" Min:\", num_of_min(df_new_var_no_max, i))\n",
    "print(df_new_var_no_max.shape)\n",
    "# Prøver 2 kjøringer først."
   ]
  },
  {
   "cell_type": "code",
   "execution_count": null,
   "id": "76151ac3",
   "metadata": {},
   "outputs": [],
   "source": [
    "# Split til trening og test set\n",
    "y = df_new_var_no_max.target\n",
    "X = df_new_var_no_max.drop([\"target\"], axis=1)\n",
    "X.head()"
   ]
  },
  {
   "cell_type": "code",
   "execution_count": null,
   "id": "e493ff13",
   "metadata": {},
   "outputs": [],
   "source": [
    "from sklearn.model_selection import train_test_split\n",
    "from sklearn import metrics\n",
    "X_train, X_test, y_train, y_test = train_test_split(X, y, test_size = 0.25, random_state=42)\n",
    "print(\"set is split\")"
   ]
  },
  {
   "cell_type": "code",
   "execution_count": null,
   "id": "3e13bcaa",
   "metadata": {},
   "outputs": [],
   "source": [
    "from sklearn.feature_selection import mutual_info_classif\n",
    "# determine the mutual information\n",
    "mutual_info = mutual_info_classif(X_train, y_train)\n",
    "mutual_info"
   ]
  },
  {
   "cell_type": "code",
   "execution_count": null,
   "id": "aeaf0ded",
   "metadata": {},
   "outputs": [],
   "source": [
    "mutual_info = pd.Series(mutual_info)\n",
    "mutual_info.index = X_train.columns\n",
    "mutual_info.sort_values(ascending=False)"
   ]
  },
  {
   "cell_type": "code",
   "execution_count": null,
   "id": "14d03548",
   "metadata": {},
   "outputs": [],
   "source": [
    "from sklearn.feature_selection import SelectKBest, chi2\n",
    "\n",
    "selector_class = SelectKBest(chi2, k=5)\n",
    "selector_class.fit(X_train, y_train)\n",
    "\n",
    "# Get columns for new dataframe\n",
    "cols = selector_class.get_support(indices=True)\n",
    "X_selected_class_train = X_train.iloc[:,cols]\n",
    "X_selected_class_test = X_test.iloc[:,cols]"
   ]
  },
  {
   "cell_type": "code",
   "execution_count": null,
   "id": "6d80a631",
   "metadata": {},
   "outputs": [],
   "source": [
    "X_selected_class_train.head()"
   ]
  },
  {
   "cell_type": "code",
   "execution_count": null,
   "id": "2bafb5e3",
   "metadata": {},
   "outputs": [],
   "source": [
    "#Random Forest Classifier\n",
    "from sklearn.ensemble import RandomForestClassifier\n",
    "\n",
    "rf_clf = RandomForestClassifier(random_state=42)\n",
    "rf_clf.fit(X_selected_class_train, y_train)\n",
    "\n",
    "rf_clf_y_train_pred = rf_clf.predict(X_selected_class_train) #predict on train set\n",
    "rf_clf_y_test_pred = rf_clf.predict(X_selected_class_test) # predict on test set\n",
    "\n",
    "print(\"Train accuracy: \", metrics.accuracy_score(y_train, rf_clf_y_train_pred))\n",
    "print(\"Test accuracy: \", metrics.accuracy_score(y_test, rf_clf_y_test_pred))\n",
    "\n",
    "# Alle features:\n",
    "# Train accuracy:  0.9989448960493238\n",
    "# Test accuracy:  0.3455631399317406\n",
    "\n",
    "# 50 features:\n",
    "\n",
    "# Train accuracy:  0.9894306108593134\n",
    "# Test accuracy:  0.3392876802818452\n",
    "\n",
    "# 20 features\n",
    "#Train accuracy:  0.904003890122392\n",
    "#Test accuracy:  0.3217274028404712\n",
    "\n",
    "\n",
    "\n"
   ]
  },
  {
   "cell_type": "code",
   "execution_count": null,
   "id": "e2a801f6",
   "metadata": {},
   "outputs": [],
   "source": []
  },
  {
   "cell_type": "code",
   "execution_count": 16,
   "id": "e686873b",
   "metadata": {},
   "outputs": [
    {
     "data": {
      "text/plain": [
       "2849"
      ]
     },
     "execution_count": 16,
     "metadata": {},
     "output_type": "execute_result"
    }
   ],
   "source": [
    "from math import comb\n",
    "\n",
    "\n",
    "74 + 74 + comb(74,2)\n",
    "\n"
   ]
  },
  {
   "cell_type": "code",
   "execution_count": null,
   "id": "b0d3bbb4",
   "metadata": {},
   "outputs": [],
   "source": [
    "#EVT F_TEST\n",
    "sel_f = SelectKBest(f_classif, k=4)\n",
    "X_train_f = sel_f.fit_transform(X_train, y_train)\n",
    "\n",
    "print(sel_f.get_support())\n",
    "print(sel_f.get_params())"
   ]
  }
 ],
 "metadata": {
  "kernelspec": {
   "display_name": "Python 3",
   "language": "python",
   "name": "python3"
  },
  "language_info": {
   "codemirror_mode": {
    "name": "ipython",
    "version": 3
   },
   "file_extension": ".py",
   "mimetype": "text/x-python",
   "name": "python",
   "nbconvert_exporter": "python",
   "pygments_lexer": "ipython3",
   "version": "3.8.3"
  }
 },
 "nbformat": 4,
 "nbformat_minor": 5
}
